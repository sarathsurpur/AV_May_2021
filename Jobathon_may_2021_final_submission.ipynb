{
  "nbformat": 4,
  "nbformat_minor": 0,
  "metadata": {
    "colab": {
      "name": "Jobathon_may_2021.ipynb",
      "provenance": []
    },
    "kernelspec": {
      "name": "python3",
      "display_name": "Python 3"
    },
    "language_info": {
      "name": "python"
    },
    "widgets": {
      "application/vnd.jupyter.widget-state+json": {
        "19a588adf5724474ae7b33ed45c278bd": {
          "model_module": "@jupyter-widgets/controls",
          "model_name": "HBoxModel",
          "state": {
            "_view_name": "HBoxView",
            "_dom_classes": [],
            "_model_name": "HBoxModel",
            "_view_module": "@jupyter-widgets/controls",
            "_model_module_version": "1.5.0",
            "_view_count": null,
            "_view_module_version": "1.5.0",
            "box_style": "",
            "layout": "IPY_MODEL_2c2d0908e8b04093b3bbd07aece5f007",
            "_model_module": "@jupyter-widgets/controls",
            "children": [
              "IPY_MODEL_09e884cc89d34d8682fe6f711f9f184c",
              "IPY_MODEL_ae63c8f58e4e49f69f6bff16982f5151"
            ]
          }
        },
        "2c2d0908e8b04093b3bbd07aece5f007": {
          "model_module": "@jupyter-widgets/base",
          "model_name": "LayoutModel",
          "state": {
            "_view_name": "LayoutView",
            "grid_template_rows": null,
            "right": null,
            "justify_content": null,
            "_view_module": "@jupyter-widgets/base",
            "overflow": null,
            "_model_module_version": "1.2.0",
            "_view_count": null,
            "flex_flow": null,
            "width": null,
            "min_width": null,
            "border": null,
            "align_items": null,
            "bottom": null,
            "_model_module": "@jupyter-widgets/base",
            "top": null,
            "grid_column": null,
            "overflow_y": null,
            "overflow_x": null,
            "grid_auto_flow": null,
            "grid_area": null,
            "grid_template_columns": null,
            "flex": null,
            "_model_name": "LayoutModel",
            "justify_items": null,
            "grid_row": null,
            "max_height": null,
            "align_content": null,
            "visibility": null,
            "align_self": null,
            "height": null,
            "min_height": null,
            "padding": null,
            "grid_auto_rows": null,
            "grid_gap": null,
            "max_width": null,
            "order": null,
            "_view_module_version": "1.2.0",
            "grid_template_areas": null,
            "object_position": null,
            "object_fit": null,
            "grid_auto_columns": null,
            "margin": null,
            "display": null,
            "left": null
          }
        },
        "09e884cc89d34d8682fe6f711f9f184c": {
          "model_module": "@jupyter-widgets/controls",
          "model_name": "FloatProgressModel",
          "state": {
            "_view_name": "ProgressView",
            "style": "IPY_MODEL_b67b175786cf4c6aa579a5ee0d4bb7fd",
            "_dom_classes": [],
            "description": "100%",
            "_model_name": "FloatProgressModel",
            "bar_style": "success",
            "max": 5,
            "_view_module": "@jupyter-widgets/controls",
            "_model_module_version": "1.5.0",
            "value": 5,
            "_view_count": null,
            "_view_module_version": "1.5.0",
            "orientation": "horizontal",
            "min": 0,
            "description_tooltip": null,
            "_model_module": "@jupyter-widgets/controls",
            "layout": "IPY_MODEL_cb2a5e1053e84efcbbc688e4ec74fae8"
          }
        },
        "ae63c8f58e4e49f69f6bff16982f5151": {
          "model_module": "@jupyter-widgets/controls",
          "model_name": "HTMLModel",
          "state": {
            "_view_name": "HTMLView",
            "style": "IPY_MODEL_37ce5edc011348e8a42c09bdafbb9f24",
            "_dom_classes": [],
            "description": "",
            "_model_name": "HTMLModel",
            "placeholder": "​",
            "_view_module": "@jupyter-widgets/controls",
            "_model_module_version": "1.5.0",
            "value": " 5/5 [09:49&lt;00:00, 117.95s/it]",
            "_view_count": null,
            "_view_module_version": "1.5.0",
            "description_tooltip": null,
            "_model_module": "@jupyter-widgets/controls",
            "layout": "IPY_MODEL_0a3fbc0009134462aa6ddeb2121dfd17"
          }
        },
        "b67b175786cf4c6aa579a5ee0d4bb7fd": {
          "model_module": "@jupyter-widgets/controls",
          "model_name": "ProgressStyleModel",
          "state": {
            "_view_name": "StyleView",
            "_model_name": "ProgressStyleModel",
            "description_width": "initial",
            "_view_module": "@jupyter-widgets/base",
            "_model_module_version": "1.5.0",
            "_view_count": null,
            "_view_module_version": "1.2.0",
            "bar_color": null,
            "_model_module": "@jupyter-widgets/controls"
          }
        },
        "cb2a5e1053e84efcbbc688e4ec74fae8": {
          "model_module": "@jupyter-widgets/base",
          "model_name": "LayoutModel",
          "state": {
            "_view_name": "LayoutView",
            "grid_template_rows": null,
            "right": null,
            "justify_content": null,
            "_view_module": "@jupyter-widgets/base",
            "overflow": null,
            "_model_module_version": "1.2.0",
            "_view_count": null,
            "flex_flow": null,
            "width": null,
            "min_width": null,
            "border": null,
            "align_items": null,
            "bottom": null,
            "_model_module": "@jupyter-widgets/base",
            "top": null,
            "grid_column": null,
            "overflow_y": null,
            "overflow_x": null,
            "grid_auto_flow": null,
            "grid_area": null,
            "grid_template_columns": null,
            "flex": null,
            "_model_name": "LayoutModel",
            "justify_items": null,
            "grid_row": null,
            "max_height": null,
            "align_content": null,
            "visibility": null,
            "align_self": null,
            "height": null,
            "min_height": null,
            "padding": null,
            "grid_auto_rows": null,
            "grid_gap": null,
            "max_width": null,
            "order": null,
            "_view_module_version": "1.2.0",
            "grid_template_areas": null,
            "object_position": null,
            "object_fit": null,
            "grid_auto_columns": null,
            "margin": null,
            "display": null,
            "left": null
          }
        },
        "37ce5edc011348e8a42c09bdafbb9f24": {
          "model_module": "@jupyter-widgets/controls",
          "model_name": "DescriptionStyleModel",
          "state": {
            "_view_name": "StyleView",
            "_model_name": "DescriptionStyleModel",
            "description_width": "",
            "_view_module": "@jupyter-widgets/base",
            "_model_module_version": "1.5.0",
            "_view_count": null,
            "_view_module_version": "1.2.0",
            "_model_module": "@jupyter-widgets/controls"
          }
        },
        "0a3fbc0009134462aa6ddeb2121dfd17": {
          "model_module": "@jupyter-widgets/base",
          "model_name": "LayoutModel",
          "state": {
            "_view_name": "LayoutView",
            "grid_template_rows": null,
            "right": null,
            "justify_content": null,
            "_view_module": "@jupyter-widgets/base",
            "overflow": null,
            "_model_module_version": "1.2.0",
            "_view_count": null,
            "flex_flow": null,
            "width": null,
            "min_width": null,
            "border": null,
            "align_items": null,
            "bottom": null,
            "_model_module": "@jupyter-widgets/base",
            "top": null,
            "grid_column": null,
            "overflow_y": null,
            "overflow_x": null,
            "grid_auto_flow": null,
            "grid_area": null,
            "grid_template_columns": null,
            "flex": null,
            "_model_name": "LayoutModel",
            "justify_items": null,
            "grid_row": null,
            "max_height": null,
            "align_content": null,
            "visibility": null,
            "align_self": null,
            "height": null,
            "min_height": null,
            "padding": null,
            "grid_auto_rows": null,
            "grid_gap": null,
            "max_width": null,
            "order": null,
            "_view_module_version": "1.2.0",
            "grid_template_areas": null,
            "object_position": null,
            "object_fit": null,
            "grid_auto_columns": null,
            "margin": null,
            "display": null,
            "left": null
          }
        }
      }
    }
  },
  "cells": [
    {
      "cell_type": "markdown",
      "metadata": {
        "id": "TrqURy1I_2zj"
      },
      "source": [
        "# Problem Statement\n",
        "\n",
        "Credit Card Lead Prediction\n",
        "Happy Customer Bank is a mid-sized private bank that deals in all kinds of banking products, like Savings accounts, Current accounts, investment products, credit products, among other offerings.\n",
        "\n",
        "\n",
        "\n",
        "The bank also cross-sells products to its existing customers and to do so they use different kinds of communication like tele-calling, e-mails, recommendations on net banking, mobile banking, etc. \n",
        "\n",
        "\n",
        "\n",
        "In this case, the Happy Customer Bank wants to cross sell its credit cards to its existing customers. The bank has identified a set of customers that are eligible for taking these credit cards.\n",
        "\n",
        "\n",
        "\n",
        "Now, the bank is looking for your help in identifying customers that could show higher intent towards a recommended credit card, given:\n",
        "\n",
        "Customer details (gender, age, region etc.)\n",
        "Details of his/her relationship with the bank (Channel_Code,Vintage, 'Avg_Asset_Value etc.)\n",
        "\n",
        "\n",
        "Data Dictionary\n",
        "\n",
        "Train Data\n",
        "\n",
        "|Variable|Definition|\n",
        "|--------|----------|\n",
        "|ID|Unique Identifier for a row|\n",
        "|Gender|Gender of the Customer|\n",
        "|Age|Age of the Customer (in Years)|\n",
        "|Region_Code|Code of the Region for the customers|\n",
        "|Occupation|Occupation Type for the customer|\n",
        "|Channel_Code|Acquisition Channel Code for the Customer  (Encoded)|\n",
        "|Vintage|Vintage for the Customer (In Months)|\n",
        "|Credit_Product|If the Customer has any active credit product (Home loan,Personal loan, Credit Card etc.)|\n",
        "|Avg_Account_Balance|Average Account Balance for the Customer in last 12 Months|\n",
        "|Is_Active|If the Customer is Active in last 3 Months|\n",
        "|Is_Lead(Target)|If the Customer is interested for the Credit Card 0 : Customer is not interested 1 : Customer is interested|\n",
        "\n",
        "\n",
        "Test Data\n",
        "\n",
        "|Variable|Definition|\n",
        "|--------|----------|\n",
        "|ID|Unique Identifier for a row|\n",
        "|Gender|Gender of the Customer|\n",
        "|Age|Age of the Customer (in Years)|\n",
        "|Region_Code|Code of the Region for the customers|\n",
        "|Occupation|Occupation Type for the customer|\n",
        "|Channel_Code|Acquisition Channel Code for the Customer  (Encoded)|\n",
        "|Vintage|Vintage for the Customer (In Months)|\n",
        "|Credit_Product|If the Customer has any active credit product (Home loan,Personal loan, Credit Card etc.)|\n",
        "|Avg_Account_Balance|Average Account Balance for the Customer in last 12 Months|\n",
        "|Is_Active|If the Customer is Active in last 3 Months|\n",
        "\n",
        "Sample Submission\n",
        "This file contains the exact submission format for the predictions. Please submit CSV file only.\n",
        "\n",
        "|Variable|\tDefinition|\n",
        "|--------|------------|\n",
        "|ID|\tUnique Identifier for a row|\n",
        "|Is_Lead\t(Target)| Probability of Customer showing interest (class 1)|\n",
        "\n",
        "\n"
      ]
    },
    {
      "cell_type": "code",
      "metadata": {
        "id": "dHf_DVjoBWqi"
      },
      "source": [
        "# !pip install pycaret\n",
        "# !pip install catboost\n",
        "import pandas as pd\n",
        "import numpy as np\n",
        "import matplotlib.pyplot as plt\n",
        "from sklearn.model_selection import train_test_split\n",
        "from sklearn.metrics import classification_report, confusion_matrix, accuracy_score\n",
        "from sklearn.metrics import matthews_corrcoef as mcc\n",
        "from sklearn.metrics import roc_auc_score\n",
        "from sklearn.model_selection import StratifiedKFold\n",
        "from sklearn.preprocessing import KBinsDiscretizer\n",
        "import xgboost as xgb\n",
        "from tqdm import tqdm_notebook\n",
        "from sklearn.metrics import roc_curve,precision_recall_curve\n",
        "from catboost import Pool, cv, CatBoostClassifier\n",
        "from sklearn.ensemble import RandomForestClassifier\n",
        "from sklearn.model_selection import cross_validate\n",
        "rf_model = RandomForestClassifier(class_weight='balanced')\n",
        "import lightgbm as lgb\n",
        "from sklearn.cluster import KMeans\n",
        "from scipy.stats import kurtosis, iqr\n",
        "from sklearn.preprocessing import LabelEncoder,StandardScaler"
      ],
      "execution_count": 190,
      "outputs": []
    },
    {
      "cell_type": "markdown",
      "metadata": {
        "id": "5pD291U2EXGM"
      },
      "source": [
        "CONFIG"
      ]
    },
    {
      "cell_type": "code",
      "metadata": {
        "id": "vnFfC6YXBbJD"
      },
      "source": [
        "DATA_PATH = '/content/drive/MyDrive/Jobathon_may_2021/'\n",
        "TRAIN_PATH = DATA_PATH + 'train.csv'\n",
        "TEST_PATH = DATA_PATH + 'test.csv'\n",
        "\n",
        "CATEGORICAL_COL = ['GENDER','REGION_CODE', 'OCCUPATION','CHANNEL_CODE',\\\n",
        "                   'CREDIT_PRODUCT','IS_ACTIVE']"
      ],
      "execution_count": 191,
      "outputs": []
    },
    {
      "cell_type": "markdown",
      "metadata": {
        "id": "IChjzmgjEYy8"
      },
      "source": [
        "UTIL FUNCTIONS"
      ]
    },
    {
      "cell_type": "code",
      "metadata": {
        "id": "xmaNYgmdEaIc"
      },
      "source": [
        "def evaluate_model(y_true, y_pred):\n",
        "  print('ROC_AUC')\n",
        "  print('***************************')\n",
        "  print(roc_auc_score(y_true,y_pred))\n",
        "\n",
        "def upper_case_columns(df):\n",
        "  '''\n",
        "  Convert case of columns in dataframe\n",
        "  '''\n",
        "  df.columns = [x.upper() for x in df.columns]\n",
        "  return df\n",
        "\n",
        "\n",
        "def miss_data(df):\n",
        "  '''\n",
        "  To summarise details of missing values in a dataframe\n",
        "  '''\n",
        "  x = ['column_name','missing_data', 'missing_in_percentage']\n",
        "  missing_data = pd.DataFrame(columns=x)\n",
        "  columns = df.columns\n",
        "  for col in columns:\n",
        "      icolumn_name = col\n",
        "      imissing_data = df[col].isnull().sum()\n",
        "      imissing_in_percentage = (df[col].isnull().sum()/df[col].shape[0])*100\n",
        "\n",
        "      missing_data.loc[len(missing_data)] = [icolumn_name, imissing_data, imissing_in_percentage]\n",
        "  print(missing_data)\n",
        "\n",
        "def split(df):\n",
        "  x_train, x_val, y_train, y_val = train_test_split(df.drop(['IS_LEAD','IS_TRAIN','ID','KFOLD'], axis=1), \\\n",
        "                                                  df['IS_LEAD'].astype('int'),\n",
        "                                                    test_size=0.20,shuffle=True,\n",
        "                                                    random_state=0,\n",
        "                                                    stratify=df['IS_LEAD'])\n",
        "  return x_train, x_val, y_train, y_val"
      ],
      "execution_count": 192,
      "outputs": []
    },
    {
      "cell_type": "markdown",
      "metadata": {
        "id": "gd2Wl6lQEcfY"
      },
      "source": [
        "ANALYSIS"
      ]
    },
    {
      "cell_type": "code",
      "metadata": {
        "id": "ybKZp36TBpJp"
      },
      "source": [
        "train = pd.read_csv(TRAIN_PATH)\n",
        "test = pd.read_csv(TEST_PATH)\n",
        "\n",
        "# change column case\n",
        "train = upper_case_columns(train)\n",
        "test = upper_case_columns(test)\n",
        "\n",
        "train['IS_TRAIN'] = 1\n",
        "test['IS_TRAIN'] = 0"
      ],
      "execution_count": 204,
      "outputs": []
    },
    {
      "cell_type": "code",
      "metadata": {
        "id": "O8Nb8h-HT33N"
      },
      "source": [
        "# splitting data in to 5 folds\n",
        "\n",
        "train['KFOLD'] = -1\n",
        "\n",
        "kf = StratifiedKFold(n_splits=5)\n",
        "\n",
        "for f, (train_idx, valid_idx) in enumerate(kf.split(X = train, y = train['IS_LEAD'].values)):\n",
        "  train.loc[valid_idx,'KFOLD'] = f"
      ],
      "execution_count": 205,
      "outputs": []
    },
    {
      "cell_type": "code",
      "metadata": {
        "colab": {
          "base_uri": "https://localhost:8080/"
        },
        "id": "vc1b1I-DCbFJ",
        "outputId": "1d6512b7-7dee-4be8-ea4b-be28208cec51"
      },
      "source": [
        "print('Number of records in train set', train.shape[0])\n",
        "print('Number of records in test set', test.shape[0])"
      ],
      "execution_count": 206,
      "outputs": [
        {
          "output_type": "stream",
          "text": [
            "Number of records in train set 245725\n",
            "Number of records in test set 105312\n"
          ],
          "name": "stdout"
        }
      ]
    },
    {
      "cell_type": "code",
      "metadata": {
        "colab": {
          "base_uri": "https://localhost:8080/"
        },
        "id": "0U6K4qnYETFe",
        "outputId": "d27a4450-af85-4971-9245-ee35e57b92eb"
      },
      "source": [
        "# check target column distribution\n",
        "train['IS_LEAD'].value_counts(normalize=True)"
      ],
      "execution_count": 207,
      "outputs": [
        {
          "output_type": "execute_result",
          "data": {
            "text/plain": [
              "0    0.762792\n",
              "1    0.237208\n",
              "Name: IS_LEAD, dtype: float64"
            ]
          },
          "metadata": {
            "tags": []
          },
          "execution_count": 207
        }
      ]
    },
    {
      "cell_type": "markdown",
      "metadata": {
        "id": "OXCRbi8WEsmv"
      },
      "source": [
        "Target class distribution is skewed with 75% of data belonging to the class 0"
      ]
    },
    {
      "cell_type": "code",
      "metadata": {
        "colab": {
          "base_uri": "https://localhost:8080/"
        },
        "id": "0uHWpPE5EUNE",
        "outputId": "bc614f9d-362a-4e7e-ecfe-084144a2d53a"
      },
      "source": [
        "miss_data(train), miss_data(test)"
      ],
      "execution_count": 208,
      "outputs": [
        {
          "output_type": "stream",
          "text": [
            "            column_name missing_data  missing_in_percentage\n",
            "0                    ID            0               0.000000\n",
            "1                GENDER            0               0.000000\n",
            "2                   AGE            0               0.000000\n",
            "3           REGION_CODE            0               0.000000\n",
            "4            OCCUPATION            0               0.000000\n",
            "5          CHANNEL_CODE            0               0.000000\n",
            "6               VINTAGE            0               0.000000\n",
            "7        CREDIT_PRODUCT        29325              11.934073\n",
            "8   AVG_ACCOUNT_BALANCE            0               0.000000\n",
            "9             IS_ACTIVE            0               0.000000\n",
            "10              IS_LEAD            0               0.000000\n",
            "11             IS_TRAIN            0               0.000000\n",
            "12                KFOLD            0               0.000000\n",
            "            column_name missing_data  missing_in_percentage\n",
            "0                    ID            0               0.000000\n",
            "1                GENDER            0               0.000000\n",
            "2                   AGE            0               0.000000\n",
            "3           REGION_CODE            0               0.000000\n",
            "4            OCCUPATION            0               0.000000\n",
            "5          CHANNEL_CODE            0               0.000000\n",
            "6               VINTAGE            0               0.000000\n",
            "7        CREDIT_PRODUCT        12522              11.890383\n",
            "8   AVG_ACCOUNT_BALANCE            0               0.000000\n",
            "9             IS_ACTIVE            0               0.000000\n",
            "10             IS_TRAIN            0               0.000000\n"
          ],
          "name": "stdout"
        },
        {
          "output_type": "execute_result",
          "data": {
            "text/plain": [
              "(None, None)"
            ]
          },
          "metadata": {
            "tags": []
          },
          "execution_count": 208
        }
      ]
    },
    {
      "cell_type": "markdown",
      "metadata": {
        "id": "Zuf9hTQcFLlt"
      },
      "source": [
        "Only credit product has 11% of missing values in both train and test set"
      ]
    },
    {
      "cell_type": "code",
      "metadata": {
        "colab": {
          "base_uri": "https://localhost:8080/"
        },
        "id": "FxLxJunkFGqU",
        "outputId": "3f2c4af1-2522-4b21-84e0-2c1388797eca"
      },
      "source": [
        "train.info()"
      ],
      "execution_count": 209,
      "outputs": [
        {
          "output_type": "stream",
          "text": [
            "<class 'pandas.core.frame.DataFrame'>\n",
            "RangeIndex: 245725 entries, 0 to 245724\n",
            "Data columns (total 13 columns):\n",
            " #   Column               Non-Null Count   Dtype \n",
            "---  ------               --------------   ----- \n",
            " 0   ID                   245725 non-null  object\n",
            " 1   GENDER               245725 non-null  object\n",
            " 2   AGE                  245725 non-null  int64 \n",
            " 3   REGION_CODE          245725 non-null  object\n",
            " 4   OCCUPATION           245725 non-null  object\n",
            " 5   CHANNEL_CODE         245725 non-null  object\n",
            " 6   VINTAGE              245725 non-null  int64 \n",
            " 7   CREDIT_PRODUCT       216400 non-null  object\n",
            " 8   AVG_ACCOUNT_BALANCE  245725 non-null  int64 \n",
            " 9   IS_ACTIVE            245725 non-null  object\n",
            " 10  IS_LEAD              245725 non-null  int64 \n",
            " 11  IS_TRAIN             245725 non-null  int64 \n",
            " 12  KFOLD                245725 non-null  int64 \n",
            "dtypes: int64(6), object(7)\n",
            "memory usage: 24.4+ MB\n"
          ],
          "name": "stdout"
        }
      ]
    },
    {
      "cell_type": "markdown",
      "metadata": {
        "id": "AtNqmnLRFhSt"
      },
      "source": [
        "In the dataset, 3 continuous columns are available and rest are categorical columns"
      ]
    },
    {
      "cell_type": "code",
      "metadata": {
        "colab": {
          "base_uri": "https://localhost:8080/"
        },
        "id": "Yl5_wGnrFXDl",
        "outputId": "546bc109-fd49-46bd-ea2a-58d69e3abaaf"
      },
      "source": [
        "print('Number of unique elements in each column')\n",
        "print('******************************************')\n",
        "for i in train.columns:\n",
        "  uniq = train[i].nunique()\n",
        "  print(f'{i}: {uniq}')"
      ],
      "execution_count": 210,
      "outputs": [
        {
          "output_type": "stream",
          "text": [
            "Number of unique elements in each column\n",
            "******************************************\n",
            "ID: 245725\n",
            "GENDER: 2\n",
            "AGE: 63\n",
            "REGION_CODE: 35\n",
            "OCCUPATION: 4\n",
            "CHANNEL_CODE: 4\n",
            "VINTAGE: 66\n",
            "CREDIT_PRODUCT: 2\n",
            "AVG_ACCOUNT_BALANCE: 135292\n",
            "IS_ACTIVE: 2\n",
            "IS_LEAD: 2\n",
            "IS_TRAIN: 1\n",
            "KFOLD: 5\n"
          ],
          "name": "stdout"
        }
      ]
    },
    {
      "cell_type": "markdown",
      "metadata": {
        "id": "r2ur6o3eFyDd"
      },
      "source": [
        "ID is a unique element in the dataset. Age column is continous with only 63 different values and Vintage column is continous with only 66 different values"
      ]
    },
    {
      "cell_type": "markdown",
      "metadata": {
        "id": "16rZ3piBGcdy"
      },
      "source": [
        "EDA"
      ]
    },
    {
      "cell_type": "code",
      "metadata": {
        "id": "jb4pDCNgGXEn"
      },
      "source": [
        "def col_plot(train, col):\n",
        "  fig, ax = plt.subplots(1, 2, figsize=(14, 4))\n",
        "  train[train['IS_LEAD'] == 0][col].value_counts(normalize=True).plot(kind='bar',ax=ax[0]).set_title('NOT INTERESTED')\n",
        "  train[train['IS_LEAD'] == 1][col].value_counts(normalize=True).plot(kind='bar',ax=ax[1]).set_title('INTERESTED')\n",
        "  plt.suptitle(col)\n",
        "  plt.show()"
      ],
      "execution_count": 211,
      "outputs": []
    },
    {
      "cell_type": "code",
      "metadata": {
        "colab": {
          "base_uri": "https://localhost:8080/",
          "height": 1000
        },
        "id": "N7Jn8WYeH8XV",
        "outputId": "47e9ac4d-ea00-4a1f-cc1f-659f0dda5861"
      },
      "source": [
        "for i in CATEGORICAL_COL:\n",
        "  col_plot(train,i)"
      ],
      "execution_count": 201,
      "outputs": [
        {
          "output_type": "display_data",
          "data": {
            "image/png": "[encoded data removed]",
            "text/plain": [
              "<Figure size 1008x288 with 2 Axes>"
            ]
          },
          "metadata": {
            "tags": [],
            "needs_background": "light"
          }
        },
        {
          "output_type": "display_data",
          "data": {
            "image/png": "[encoded data removed]",
            "text/plain": [
              "<Figure size 1008x288 with 2 Axes>"
            ]
          },
          "metadata": {
            "tags": [],
            "needs_background": "light"
          }
        },
        {
          "output_type": "display_data",
          "data": {
            "image/png": "[encoded data removed]",
            "text/plain": [
              "<Figure size 1008x288 with 2 Axes>"
            ]
          },
          "metadata": {
            "tags": [],
            "needs_background": "light"
          }
        },
        {
          "output_type": "display_data",
          "data": {
            "image/png": "[encoded data removed]",
            "text/plain": [
              "<Figure size 1008x288 with 2 Axes>"
            ]
          },
          "metadata": {
            "tags": [],
            "needs_background": "light"
          }
        },
        {
          "output_type": "display_data",
          "data": {
            "image/png": "[encoded data removed]",
            "text/plain": [
              "<Figure size 1008x288 with 2 Axes>"
            ]
          },
          "metadata": {
            "tags": [],
            "needs_background": "light"
          }
        },
        {
          "output_type": "display_data",
          "data": {
            "image/png": "[encoded data removed]",
            "text/plain": [
              "<Figure size 1008x288 with 2 Axes>"
            ]
          },
          "metadata": {
            "tags": [],
            "needs_background": "light"
          }
        }
      ]
    },
    {
      "cell_type": "markdown",
      "metadata": {
        "id": "NfmDki-tJLSv"
      },
      "source": [
        "Dealing with MISSING values and Categorical columns"
      ]
    },
    {
      "cell_type": "code",
      "metadata": {
        "id": "KL3-bPINH-qH"
      },
      "source": [
        "# missing values are available only in credit product column and considered as sepearate category\n",
        "\n",
        "train['CREDIT_PRODUCT'].fillna('None', inplace=True)\n",
        "test['CREDIT_PRODUCT'].fillna('None', inplace=True)\n"
      ],
      "execution_count": 212,
      "outputs": []
    },
    {
      "cell_type": "markdown",
      "metadata": {
        "id": "EmedOeA5RX9X"
      },
      "source": [
        "FIND OPTIMAL MODEL using CV"
      ]
    },
    {
      "cell_type": "code",
      "metadata": {
        "id": "_AcQNqwxRX9Y"
      },
      "source": [
        "# encode the categorical values\n",
        "encoder = LabelEncoder()\n",
        "\n",
        "for c in CATEGORICAL_COL:\n",
        "    train[c] = encoder.fit_transform(train[c])\n",
        "    test[c] = encoder.transform(test[c])"
      ],
      "execution_count": 213,
      "outputs": []
    },
    {
      "cell_type": "code",
      "metadata": {
        "id": "rOr_P9kwRX9Z"
      },
      "source": [
        "x_train,  x_val, y_train, y_val = split(train)"
      ],
      "execution_count": 214,
      "outputs": []
    },
    {
      "cell_type": "markdown",
      "metadata": {
        "id": "w7Co6VffRX9a"
      },
      "source": [
        "LGBM"
      ]
    },
    {
      "cell_type": "code",
      "metadata": {
        "id": "9CgCcZGCRX9b"
      },
      "source": [
        "\n",
        "lightgbm_params = {\n",
        "    'boosting_type': 'gbdt',\n",
        "    'objective': 'binary',\n",
        "    'metric': 'auc',\n",
        "    'class_weight':'balanced'\n",
        "}\n",
        "\n",
        "d_train = lgb.Dataset(x_train, label=y_train)\n",
        "lg_cv = lgb.cv(lightgbm_params, d_train,nfold=5, \n",
        "               verbose_eval=20, early_stopping_rounds=40, shuffle=False)"
      ],
      "execution_count": null,
      "outputs": []
    },
    {
      "cell_type": "code",
      "metadata": {
        "colab": {
          "base_uri": "https://localhost:8080/"
        },
        "id": "x9-XpP0TRX9d",
        "outputId": "9a67a248-f7f8-4502-da89-8195b1472331"
      },
      "source": [
        "print('Best CV score:', np.mean(lg_cv['auc-mean']))"
      ],
      "execution_count": null,
      "outputs": [
        {
          "output_type": "stream",
          "text": [
            "Best CV score: 0.8724213313135205\n"
          ],
          "name": "stdout"
        }
      ]
    },
    {
      "cell_type": "markdown",
      "metadata": {
        "id": "fpkZ3UPJRX9f"
      },
      "source": [
        "CATBOOST"
      ]
    },
    {
      "cell_type": "code",
      "metadata": {
        "id": "r3sBqi0kRX9g"
      },
      "source": [
        "params = {\"iterations\": 100,\n",
        "          \"loss_function\": \"Logloss\",\n",
        "          'custom_metric':'AUC',\n",
        "          'class_weights':[1,3],\n",
        "          \"verbose\": False}\n",
        "\n",
        "cv_data = Pool(data=x_train,\n",
        "                  label=y_train)\n",
        "\n",
        "scores = cv(cv_data,\n",
        "            params,\n",
        "            fold_count=5, shuffle=False)\n"
      ],
      "execution_count": null,
      "outputs": []
    },
    {
      "cell_type": "code",
      "metadata": {
        "colab": {
          "base_uri": "https://localhost:8080/"
        },
        "id": "ShfMtI8xRX9h",
        "outputId": "e84250db-8fbb-4195-91ce-2ecc28692c47"
      },
      "source": [
        "scores['test-AUC-mean'].max()"
      ],
      "execution_count": null,
      "outputs": [
        {
          "output_type": "execute_result",
          "data": {
            "text/plain": [
              "0.8715988266015042"
            ]
          },
          "metadata": {
            "tags": []
          },
          "execution_count": 77
        }
      ]
    },
    {
      "cell_type": "markdown",
      "metadata": {
        "id": "44IESWl_RX9j"
      },
      "source": [
        "XGBOOST and ADABOOST"
      ]
    },
    {
      "cell_type": "code",
      "metadata": {
        "id": "mbK1q2DnRX9k"
      },
      "source": [
        "xgtrain = xgb.DMatrix(x_train, y_train )\n",
        "model_xg=xgb.XGBClassifier(random_state=0, scale_pos_weight=3)\n",
        "xgb_param = model_xg.get_xgb_params()\n",
        "\n",
        "xg_cv = xgb.cv(xgb_param, xgtrain, nfold=5, metrics='auc', seed=0)"
      ],
      "execution_count": null,
      "outputs": []
    },
    {
      "cell_type": "code",
      "metadata": {
        "colab": {
          "base_uri": "https://localhost:8080/",
          "height": 343
        },
        "id": "F3TcLfhQRX9l",
        "outputId": "95252fd7-5173-4b9b-9982-70a42a62ff90"
      },
      "source": [
        "xg_cv"
      ],
      "execution_count": null,
      "outputs": [
        {
          "output_type": "execute_result",
          "data": {
            "text/html": [
              "<div>\n",
              "<style scoped>\n",
              "    .dataframe tbody tr th:only-of-type {\n",
              "        vertical-align: middle;\n",
              "    }\n",
              "\n",
              "    .dataframe tbody tr th {\n",
              "        vertical-align: top;\n",
              "    }\n",
              "\n",
              "    .dataframe thead th {\n",
              "        text-align: right;\n",
              "    }\n",
              "</style>\n",
              "<table border=\"1\" class=\"dataframe\">\n",
              "  <thead>\n",
              "    <tr style=\"text-align: right;\">\n",
              "      <th></th>\n",
              "      <th>train-auc-mean</th>\n",
              "      <th>train-auc-std</th>\n",
              "      <th>test-auc-mean</th>\n",
              "      <th>test-auc-std</th>\n",
              "    </tr>\n",
              "  </thead>\n",
              "  <tbody>\n",
              "    <tr>\n",
              "      <th>0</th>\n",
              "      <td>0.870913</td>\n",
              "      <td>0.000635</td>\n",
              "      <td>0.869575</td>\n",
              "      <td>0.002480</td>\n",
              "    </tr>\n",
              "    <tr>\n",
              "      <th>1</th>\n",
              "      <td>0.871968</td>\n",
              "      <td>0.000496</td>\n",
              "      <td>0.870376</td>\n",
              "      <td>0.002349</td>\n",
              "    </tr>\n",
              "    <tr>\n",
              "      <th>2</th>\n",
              "      <td>0.872788</td>\n",
              "      <td>0.000564</td>\n",
              "      <td>0.870754</td>\n",
              "      <td>0.002223</td>\n",
              "    </tr>\n",
              "    <tr>\n",
              "      <th>3</th>\n",
              "      <td>0.873751</td>\n",
              "      <td>0.000566</td>\n",
              "      <td>0.871609</td>\n",
              "      <td>0.002306</td>\n",
              "    </tr>\n",
              "    <tr>\n",
              "      <th>4</th>\n",
              "      <td>0.874107</td>\n",
              "      <td>0.000616</td>\n",
              "      <td>0.871781</td>\n",
              "      <td>0.002287</td>\n",
              "    </tr>\n",
              "    <tr>\n",
              "      <th>5</th>\n",
              "      <td>0.874642</td>\n",
              "      <td>0.000716</td>\n",
              "      <td>0.872052</td>\n",
              "      <td>0.002163</td>\n",
              "    </tr>\n",
              "    <tr>\n",
              "      <th>6</th>\n",
              "      <td>0.875122</td>\n",
              "      <td>0.000639</td>\n",
              "      <td>0.872295</td>\n",
              "      <td>0.002190</td>\n",
              "    </tr>\n",
              "    <tr>\n",
              "      <th>7</th>\n",
              "      <td>0.875581</td>\n",
              "      <td>0.000504</td>\n",
              "      <td>0.872522</td>\n",
              "      <td>0.002298</td>\n",
              "    </tr>\n",
              "    <tr>\n",
              "      <th>8</th>\n",
              "      <td>0.876051</td>\n",
              "      <td>0.000604</td>\n",
              "      <td>0.872745</td>\n",
              "      <td>0.002211</td>\n",
              "    </tr>\n",
              "    <tr>\n",
              "      <th>9</th>\n",
              "      <td>0.876688</td>\n",
              "      <td>0.000558</td>\n",
              "      <td>0.872974</td>\n",
              "      <td>0.002238</td>\n",
              "    </tr>\n",
              "  </tbody>\n",
              "</table>\n",
              "</div>"
            ],
            "text/plain": [
              "   train-auc-mean  train-auc-std  test-auc-mean  test-auc-std\n",
              "0        0.870913       0.000635       0.869575      0.002480\n",
              "1        0.871968       0.000496       0.870376      0.002349\n",
              "2        0.872788       0.000564       0.870754      0.002223\n",
              "3        0.873751       0.000566       0.871609      0.002306\n",
              "4        0.874107       0.000616       0.871781      0.002287\n",
              "5        0.874642       0.000716       0.872052      0.002163\n",
              "6        0.875122       0.000639       0.872295      0.002190\n",
              "7        0.875581       0.000504       0.872522      0.002298\n",
              "8        0.876051       0.000604       0.872745      0.002211\n",
              "9        0.876688       0.000558       0.872974      0.002238"
            ]
          },
          "metadata": {
            "tags": []
          },
          "execution_count": 79
        }
      ]
    },
    {
      "cell_type": "code",
      "metadata": {
        "id": "9iiBJruYRX9m"
      },
      "source": [
        "rf_model = RandomForestClassifier(class_weight='balanced')\n",
        "rf = cross_validate(rf_model, x_train, y_train, cv=5, scoring='roc_auc', n_jobs=-1)"
      ],
      "execution_count": null,
      "outputs": []
    },
    {
      "cell_type": "code",
      "metadata": {
        "colab": {
          "base_uri": "https://localhost:8080/"
        },
        "id": "sP8OqhVJRX9n",
        "outputId": "6a2f7e4d-e4d7-43a6-c130-d85b0e1fe3c9"
      },
      "source": [
        "np.mean(rf['test_score'])"
      ],
      "execution_count": null,
      "outputs": [
        {
          "output_type": "execute_result",
          "data": {
            "text/plain": [
              "0.8525026413479596"
            ]
          },
          "metadata": {
            "tags": []
          },
          "execution_count": 82
        }
      ]
    },
    {
      "cell_type": "markdown",
      "metadata": {
        "id": "nB5r84bWR5Tn"
      },
      "source": [
        "FEATURE ENGINEERING"
      ]
    },
    {
      "cell_type": "code",
      "metadata": {
        "id": "OobzhPTpR5Tn"
      },
      "source": [
        "train['IS_TRAIN'] = 1\n",
        "test['IS_TRAIN'] = 0\n",
        "\n",
        "df = pd.concat([train, test])"
      ],
      "execution_count": null,
      "outputs": []
    },
    {
      "cell_type": "code",
      "metadata": {
        "id": "e1nNphpMR5To"
      },
      "source": [
        "\n",
        "def get_kurtosis(arr):\n",
        "  kurt = kurtosis(arr)\n",
        "  return kurt\n",
        "\n",
        "def get_iqr(arr):\n",
        "  iqr_val = iqr(arr)\n",
        "  return iqr_val \n",
        "\n",
        "def get_range(arr):\n",
        "  range_val = np.ptp(arr)\n",
        "  return range_val"
      ],
      "execution_count": null,
      "outputs": []
    },
    {
      "cell_type": "code",
      "metadata": {
        "id": "0smLLCJsR5To"
      },
      "source": [
        "def get_agg_cols(train, col):\n",
        "    train[f'{col}_MEAN_{i}'] = train.groupby(['REGION_CODE'])[col].transform('mean')\n",
        "    train[f'{col}_STD_{i}'] = train.groupby(['REGION_CODE'])[col].transform('std')\n",
        "    train[f'{col}_SKEW_{i}'] = train.groupby(['REGION_CODE'])[col].transform('skew')\n",
        "    train[f'{col}_KURTOSIS_{i}'] = train.groupby(['REGION_CODE'])[col].transform(get_kurtosis)\n",
        "    train[f'{col}_IQR_{i}'] = train.groupby(['REGION_CODE'])[col].transform(get_iqr)\n",
        "    train[f'{col}_RANGE_{i}'] = train.groupby(['REGION_CODE'])[col].transform(get_range)\n",
        "    return train\n"
      ],
      "execution_count": null,
      "outputs": []
    },
    {
      "cell_type": "code",
      "metadata": {
        "id": "TfB17jMUR5To"
      },
      "source": [
        "# Aggregate values based on regional code on account balance\n",
        "\n",
        "df = get_agg_cols(df,'AVG_ACCOUNT_BALANCE')"
      ],
      "execution_count": null,
      "outputs": []
    },
    {
      "cell_type": "code",
      "metadata": {
        "id": "phiSPAzhR5Tp"
      },
      "source": [
        "def binning_col(train, col):\n",
        "  # no of bins and edges \n",
        "  hist, bin_edg = np.histogram(train[col].values,bins='sturges')\n",
        "  Bin = KBinsDiscretizer(n_bins=6, encode='ordinal', strategy='kmeans')\n",
        "  train[f'{col}_BIN'] = Bin.fit_transform(train[col].values.reshape(-1, 1))\n",
        "  return train\n",
        "\n",
        "# binning age and vintage\n",
        "df = binning_col(df,'AGE')\n",
        "df = binning_col(df,'VINTAGE')\n",
        "\n",
        "CATEGORICAL_COL += ['AGE_BIN','VINTAGE_BIN']"
      ],
      "execution_count": null,
      "outputs": []
    },
    {
      "cell_type": "code",
      "metadata": {
        "id": "_tNpRQ5JR5Tp"
      },
      "source": [
        "# ratio features \n",
        "\n",
        "df['RATIO_AGE_VINTAGE'] = np.log(df['AGE']/df['VINTAGE'])\n",
        "df['RATIO_AC_BAL_AGE'] = np.log(df['AVG_ACCOUNT_BALANCE']/df['AGE'])\n",
        "df['AVG_ACCOUNT_BALANCE'] = np.log(df['AVG_ACCOUNT_BALANCE'])\n",
        "df['AGE'] = np.log(df['AGE'])\n",
        "df['VINTAGE'] = np.log(df['VINTAGE'])"
      ],
      "execution_count": null,
      "outputs": []
    },
    {
      "cell_type": "code",
      "metadata": {
        "id": "DxyIg-JNR5Tq"
      },
      "source": [
        "def target_encoding(train, valid, test):\n",
        "  for c in CATEGORICAL_COL:\n",
        "    val_dict = train.groupby([c]).agg({'IS_LEAD':'mean'}).to_dict()['IS_LEAD']\n",
        "    train[f'{c}_TARGET_ENCODING'] = train[c].map(val_dict)\n",
        "    valid[f'{c}_TARGET_ENCODING'] = valid[c].map(val_dict)\n",
        "    test[f'{c}_TARGET_ENCODING'] = test[c].map(val_dict)\n",
        "  return train, valid, test\n"
      ],
      "execution_count": null,
      "outputs": []
    },
    {
      "cell_type": "code",
      "metadata": {
        "colab": {
          "base_uri": "https://localhost:8080/"
        },
        "id": "mVEO5W2OR5Tq",
        "outputId": "6ac4e2b5-3de7-476e-afaa-45e56aac1aa2"
      },
      "source": [
        "# ENCODING the categorical columns\n",
        "\n",
        "train = df[df['IS_TRAIN']==1]\n",
        "test = df[df['IS_TRAIN']==0]\n",
        "\n",
        "encoder = LabelEncoder()\n",
        "\n",
        "for c in CATEGORICAL_COL:\n",
        "    train[c] = encoder.fit_transform(train[c])\n",
        "    test[c] = encoder.transform(test[c])"
      ],
      "execution_count": null,
      "outputs": [
        {
          "output_type": "stream",
          "text": [
            "/usr/local/lib/python3.7/dist-packages/ipykernel_launcher.py:9: SettingWithCopyWarning: \n",
            "A value is trying to be set on a copy of a slice from a DataFrame.\n",
            "Try using .loc[row_indexer,col_indexer] = value instead\n",
            "\n",
            "See the caveats in the documentation: https://pandas.pydata.org/pandas-docs/stable/user_guide/indexing.html#returning-a-view-versus-a-copy\n",
            "  if __name__ == '__main__':\n",
            "/usr/local/lib/python3.7/dist-packages/ipykernel_launcher.py:10: SettingWithCopyWarning: \n",
            "A value is trying to be set on a copy of a slice from a DataFrame.\n",
            "Try using .loc[row_indexer,col_indexer] = value instead\n",
            "\n",
            "See the caveats in the documentation: https://pandas.pydata.org/pandas-docs/stable/user_guide/indexing.html#returning-a-view-versus-a-copy\n",
            "  # Remove the CWD from sys.path while we load stuff.\n"
          ],
          "name": "stderr"
        }
      ]
    },
    {
      "cell_type": "markdown",
      "metadata": {
        "id": "qIpGwnftSPSS"
      },
      "source": [
        "From the CV results LGBM found to be the best model tunning its parameter"
      ]
    },
    {
      "cell_type": "markdown",
      "metadata": {
        "id": "Uo1xiKkzSOOU"
      },
      "source": [
        "HYPERPARAMETER TUNING"
      ]
    },
    {
      "cell_type": "code",
      "metadata": {
        "id": "OeVLJSOsSOOV"
      },
      "source": [
        "# Objective Function\n",
        "dtrain = lgb.Dataset(data=x_train, label=y_train, free_raw_data=False)\n",
        "\n",
        "def lgb_eval(learning_rate,num_leaves, feature_fraction,\\\n",
        "             bagging_fraction, max_depth, \\\n",
        "             lambda_l1, lambda_l2,\\\n",
        "             min_split_gain, min_child_weight,subsample):\n",
        "        params = {'application':'binary','num_iterations': 1500,\n",
        "                  'early_stopping_round':150,'class_weight':'balanced',\n",
        "                  'metric':'auc'} # ,'boost_from_average':False}\n",
        "        params['learning_rate'] = max(min(learning_rate, 1), 0)          \n",
        "        params[\"num_leaves\"] = int(round(num_leaves))\n",
        "        params['feature_fraction'] = max(min(feature_fraction, 1), 0)\n",
        "        params['bagging_fraction'] = max(min(bagging_fraction, 1), 0)\n",
        "        params['max_depth'] = int(round(max_depth))\n",
        "        params['lambda_l1'] = max(lambda_l1, 0)\n",
        "        params['lambda_l2'] = max(lambda_l2, 0)\n",
        "        params['min_split_gain'] = min_split_gain\n",
        "        params['min_child_weight'] = min_child_weight,\n",
        "        params['subsample'] = max(min(subsample, 1), 0)\n",
        "        cv_result = lgb.cv(params, dtrain, nfold=5, seed=11,\n",
        "                           stratified=True,categorical_feature= CATEGORICAL_COL,\n",
        "                            verbose_eval =None)\n",
        "        return max(cv_result['auc-mean'])\n",
        "\n",
        "pbs = {'learning_rate': (0.01, 1.0),\n",
        "    'num_leaves': (200, 400),\n",
        "        'feature_fraction': (0.1, 0.9),\n",
        "        'bagging_fraction': (0.8, 1),\n",
        "        'max_depth': (11, 29),\n",
        "        'lambda_l1': (0, 2),\n",
        "        'lambda_l2': (0, 3),\n",
        "        'min_split_gain': (0.001, 0.1),\n",
        "        'min_child_weight': (1, 10),\n",
        "       'subsample': (0.01, 1.0)\n",
        "      }\n",
        "\n",
        "\n",
        "from bayes_opt import BayesianOptimization\n",
        "optimizer = BayesianOptimization(lgb_eval, pbs, random_state=0)\n",
        "optimizer.maximize(init_points=5, n_iter=30)"
      ],
      "execution_count": null,
      "outputs": []
    },
    {
      "cell_type": "code",
      "metadata": {
        "colab": {
          "base_uri": "https://localhost:8080/"
        },
        "id": "EpH31sGQSOOW",
        "outputId": "894446a8-8f88-4c61-fb25-faccc90d9384"
      },
      "source": [
        "optimizer.max['params']"
      ],
      "execution_count": null,
      "outputs": [
        {
          "output_type": "execute_result",
          "data": {
            "text/plain": [
              "{'bagging_fraction': 0.8311485666872785,\n",
              " 'feature_fraction': 0.8379604070873502,\n",
              " 'lambda_l1': 1.9965195846273445,\n",
              " 'lambda_l2': 2.3749163983987684,\n",
              " 'learning_rate': 0.010966236844973847,\n",
              " 'max_depth': 12.421995123923814,\n",
              " 'min_child_weight': 4.3310407596078795,\n",
              " 'min_split_gain': 0.04390640960548089,\n",
              " 'num_leaves': 200.9699390530843,\n",
              " 'subsample': 0.25565702591322664}"
            ]
          },
          "metadata": {
            "tags": []
          },
          "execution_count": 29
        }
      ]
    },
    {
      "cell_type": "markdown",
      "metadata": {
        "id": "ox3fjp1zQz_L"
      },
      "source": [
        "Using the best two models to ensemble the results\n",
        "to train and predict on unseen data"
      ]
    },
    {
      "cell_type": "code",
      "metadata": {
        "colab": {
          "base_uri": "https://localhost:8080/",
          "height": 1000,
          "referenced_widgets": [
            "19a588adf5724474ae7b33ed45c278bd",
            "2c2d0908e8b04093b3bbd07aece5f007",
            "09e884cc89d34d8682fe6f711f9f184c",
            "ae63c8f58e4e49f69f6bff16982f5151",
            "b67b175786cf4c6aa579a5ee0d4bb7fd",
            "cb2a5e1053e84efcbbc688e4ec74fae8",
            "37ce5edc011348e8a42c09bdafbb9f24",
            "0a3fbc0009134462aa6ddeb2121dfd17"
          ]
        },
        "id": "a1g_A6C8RAYV",
        "outputId": "b7a47b53-9dbe-462c-b2a2-5f47a13c6343"
      },
      "source": [
        "test_pred = []\n",
        "thresh = []\n",
        "for i in tqdm_notebook(range(5)):\n",
        "  x_train = train[train['KFOLD']!=i].drop(['ID','IS_LEAD','IS_TRAIN','KFOLD'], axis=1)\n",
        "  y_train = train[train['KFOLD']!=i]['IS_LEAD']\n",
        "  x_val = train[train['KFOLD']==i].drop(['ID','IS_LEAD','IS_TRAIN','KFOLD'], axis=1)\n",
        "  y_val = train[train['KFOLD']==i]['IS_LEAD']\n",
        "\n",
        "  # creating model\n",
        "  model_lgbm  = lgb.LGBMClassifier(class_weight = 'balanced',\n",
        "                                 objective = 'binary', \n",
        "                                 silent=True,\n",
        "                                 iterations = 200,\n",
        "                                 boosting_type = 'gbdt',\n",
        "                                 bagging_fraction = 0.83,\n",
        "                                 feature_fraction = 0.84,\n",
        "                                lambda_l1 = 2,\n",
        "                                # lambda_l2 = 2.37,\n",
        "                                # learning_rate = 0.011,\n",
        "                                # max_depth = 12,\n",
        "                                min_child_weight = 4,\n",
        "                                # min_split_gain = 0.04,\n",
        "                                num_leaves = 201,\n",
        "                                subsample = 0.25,\n",
        "                                 min_data_in_leaf=307, \n",
        "                                 max_depth=7, \n",
        "                                 learning_rate=0.1)\n",
        "  \n",
        "  cat = CatBoostClassifier(class_weights=[1,3],\n",
        "                           iterations = 200,\n",
        "                           learning_rate = 0.06,\n",
        "                           depth = 8,\n",
        "                           l2_leaf_reg = 21, \n",
        "                           eval_metric='AUC', \n",
        "                           silent=True)\n",
        "  CAT_IND = x_train.columns.get_indexer(CATEGORICAL_COL)\n",
        "\n",
        "  model_lgbm.fit(x_train, y_train, categorical_feature = CATEGORICAL_COL, \n",
        "                 eval_metric='auc', eval_set=[(x_val,y_val)])\n",
        "  cat.fit(x_train, y_train, cat_features=CAT_IND, eval_set = [(x_val, y_val)])\n",
        "\n",
        "  val_pred1 = model_lgbm.predict_proba(x_val)[:,1]\n",
        "  val_pred2 = cat.predict_proba(x_val)[:,1]\n",
        " \n",
        "  val_pred = 0.6*val_pred1 + 0.4*val_pred2\n",
        "  print(evaluate_model(y_val, val_pred))\n",
        "  pred1 = model_lgbm.predict_proba(test[x_train.columns])[:,1]\n",
        "  pred2 = cat.predict_proba(test[x_train.columns])[:,1]\n",
        "  pred = 0.6*pred1 + 0.4*pred2\n",
        "  test_pred.append(pred)\n"
      ],
      "execution_count": 183,
      "outputs": [
        {
          "output_type": "stream",
          "text": [
            "/usr/local/lib/python3.7/dist-packages/ipykernel_launcher.py:3: TqdmDeprecationWarning: This function will be removed in tqdm==5.0.0\n",
            "Please use `tqdm.notebook.tqdm` instead of `tqdm.tqdm_notebook`\n",
            "  This is separate from the ipykernel package so we can avoid doing imports until\n"
          ],
          "name": "stderr"
        },
        {
          "output_type": "display_data",
          "data": {
            "application/vnd.jupyter.widget-view+json": {
              "model_id": "19a588adf5724474ae7b33ed45c278bd",
              "version_minor": 0,
              "version_major": 2
            },
            "text/plain": [
              "HBox(children=(FloatProgress(value=0.0, max=5.0), HTML(value='')))"
            ]
          },
          "metadata": {
            "tags": []
          }
        },
        {
          "output_type": "stream",
          "text": [
            "/usr/local/lib/python3.7/dist-packages/lightgbm/basic.py:1209: UserWarning: categorical_feature in Dataset is overridden.\n",
            "New categorical_feature is ['AGE_BIN', 'CHANNEL_CODE', 'CREDIT_PRODUCT', 'GENDER', 'IS_ACTIVE', 'OCCUPATION', 'REGION_CODE', 'VINTAGE_BIN']\n",
            "  'New categorical_feature is {}'.format(sorted(list(categorical_feature))))\n"
          ],
          "name": "stderr"
        },
        {
          "output_type": "stream",
          "text": [
            "[1]\tvalid_0's auc: 0.86438\tvalid_0's binary_logloss: 0.652738\n",
            "[2]\tvalid_0's auc: 0.865697\tvalid_0's binary_logloss: 0.619802\n",
            "[3]\tvalid_0's auc: 0.868454\tvalid_0's binary_logloss: 0.591208\n",
            "[4]\tvalid_0's auc: 0.86913\tvalid_0's binary_logloss: 0.567482\n",
            "[5]\tvalid_0's auc: 0.869036\tvalid_0's binary_logloss: 0.547724\n",
            "[6]\tvalid_0's auc: 0.86967\tvalid_0's binary_logloss: 0.530663\n",
            "[7]\tvalid_0's auc: 0.869906\tvalid_0's binary_logloss: 0.516289\n",
            "[8]\tvalid_0's auc: 0.869893\tvalid_0's binary_logloss: 0.504016\n",
            "[9]\tvalid_0's auc: 0.869843\tvalid_0's binary_logloss: 0.493318\n",
            "[10]\tvalid_0's auc: 0.870038\tvalid_0's binary_logloss: 0.484577\n",
            "[11]\tvalid_0's auc: 0.870098\tvalid_0's binary_logloss: 0.476903\n",
            "[12]\tvalid_0's auc: 0.869915\tvalid_0's binary_logloss: 0.470584\n",
            "[13]\tvalid_0's auc: 0.870114\tvalid_0's binary_logloss: 0.4673\n",
            "[14]\tvalid_0's auc: 0.869965\tvalid_0's binary_logloss: 0.462245\n",
            "[15]\tvalid_0's auc: 0.869998\tvalid_0's binary_logloss: 0.457587\n",
            "[16]\tvalid_0's auc: 0.870477\tvalid_0's binary_logloss: 0.453251\n",
            "[17]\tvalid_0's auc: 0.870755\tvalid_0's binary_logloss: 0.449498\n",
            "[18]\tvalid_0's auc: 0.871\tvalid_0's binary_logloss: 0.446158\n",
            "[19]\tvalid_0's auc: 0.87089\tvalid_0's binary_logloss: 0.4438\n",
            "[20]\tvalid_0's auc: 0.870939\tvalid_0's binary_logloss: 0.441284\n",
            "[21]\tvalid_0's auc: 0.871153\tvalid_0's binary_logloss: 0.439019\n",
            "[22]\tvalid_0's auc: 0.871313\tvalid_0's binary_logloss: 0.437142\n",
            "[23]\tvalid_0's auc: 0.871327\tvalid_0's binary_logloss: 0.435631\n",
            "[24]\tvalid_0's auc: 0.871288\tvalid_0's binary_logloss: 0.43454\n",
            "[25]\tvalid_0's auc: 0.871432\tvalid_0's binary_logloss: 0.43319\n",
            "[26]\tvalid_0's auc: 0.871535\tvalid_0's binary_logloss: 0.432467\n",
            "[27]\tvalid_0's auc: 0.871617\tvalid_0's binary_logloss: 0.431405\n",
            "[28]\tvalid_0's auc: 0.871582\tvalid_0's binary_logloss: 0.430803\n",
            "[29]\tvalid_0's auc: 0.871644\tvalid_0's binary_logloss: 0.429924\n",
            "[30]\tvalid_0's auc: 0.871625\tvalid_0's binary_logloss: 0.429755\n",
            "[31]\tvalid_0's auc: 0.871623\tvalid_0's binary_logloss: 0.429034\n",
            "[32]\tvalid_0's auc: 0.871683\tvalid_0's binary_logloss: 0.42841\n",
            "[33]\tvalid_0's auc: 0.871766\tvalid_0's binary_logloss: 0.427836\n",
            "[34]\tvalid_0's auc: 0.871786\tvalid_0's binary_logloss: 0.427501\n",
            "[35]\tvalid_0's auc: 0.871756\tvalid_0's binary_logloss: 0.427228\n",
            "[36]\tvalid_0's auc: 0.871819\tvalid_0's binary_logloss: 0.426746\n",
            "[37]\tvalid_0's auc: 0.871829\tvalid_0's binary_logloss: 0.426378\n",
            "[38]\tvalid_0's auc: 0.871885\tvalid_0's binary_logloss: 0.426115\n",
            "[39]\tvalid_0's auc: 0.871913\tvalid_0's binary_logloss: 0.425752\n",
            "[40]\tvalid_0's auc: 0.871889\tvalid_0's binary_logloss: 0.425582\n",
            "[41]\tvalid_0's auc: 0.871946\tvalid_0's binary_logloss: 0.425378\n",
            "[42]\tvalid_0's auc: 0.871946\tvalid_0's binary_logloss: 0.425226\n",
            "[43]\tvalid_0's auc: 0.871961\tvalid_0's binary_logloss: 0.425089\n",
            "[44]\tvalid_0's auc: 0.871928\tvalid_0's binary_logloss: 0.424852\n",
            "[45]\tvalid_0's auc: 0.871921\tvalid_0's binary_logloss: 0.424669\n",
            "[46]\tvalid_0's auc: 0.871975\tvalid_0's binary_logloss: 0.424513\n",
            "[47]\tvalid_0's auc: 0.872007\tvalid_0's binary_logloss: 0.424414\n",
            "[48]\tvalid_0's auc: 0.872016\tvalid_0's binary_logloss: 0.424257\n",
            "[49]\tvalid_0's auc: 0.872045\tvalid_0's binary_logloss: 0.424122\n",
            "[50]\tvalid_0's auc: 0.872119\tvalid_0's binary_logloss: 0.424036\n",
            "[51]\tvalid_0's auc: 0.872134\tvalid_0's binary_logloss: 0.423931\n",
            "[52]\tvalid_0's auc: 0.872137\tvalid_0's binary_logloss: 0.423874\n",
            "[53]\tvalid_0's auc: 0.872127\tvalid_0's binary_logloss: 0.423778\n",
            "[54]\tvalid_0's auc: 0.872127\tvalid_0's binary_logloss: 0.423697\n",
            "[55]\tvalid_0's auc: 0.872127\tvalid_0's binary_logloss: 0.42366\n",
            "[56]\tvalid_0's auc: 0.872164\tvalid_0's binary_logloss: 0.423617\n",
            "[57]\tvalid_0's auc: 0.872175\tvalid_0's binary_logloss: 0.423542\n",
            "[58]\tvalid_0's auc: 0.872189\tvalid_0's binary_logloss: 0.423502\n",
            "[59]\tvalid_0's auc: 0.872203\tvalid_0's binary_logloss: 0.423441\n",
            "[60]\tvalid_0's auc: 0.872199\tvalid_0's binary_logloss: 0.423379\n",
            "[61]\tvalid_0's auc: 0.872225\tvalid_0's binary_logloss: 0.423357\n",
            "[62]\tvalid_0's auc: 0.872245\tvalid_0's binary_logloss: 0.423322\n",
            "[63]\tvalid_0's auc: 0.872256\tvalid_0's binary_logloss: 0.423304\n",
            "[64]\tvalid_0's auc: 0.872217\tvalid_0's binary_logloss: 0.423283\n",
            "[65]\tvalid_0's auc: 0.872149\tvalid_0's binary_logloss: 0.42328\n",
            "[66]\tvalid_0's auc: 0.872173\tvalid_0's binary_logloss: 0.423246\n",
            "[67]\tvalid_0's auc: 0.872147\tvalid_0's binary_logloss: 0.42317\n",
            "[68]\tvalid_0's auc: 0.872127\tvalid_0's binary_logloss: 0.423153\n",
            "[69]\tvalid_0's auc: 0.872161\tvalid_0's binary_logloss: 0.423088\n",
            "[70]\tvalid_0's auc: 0.872148\tvalid_0's binary_logloss: 0.423064\n",
            "[71]\tvalid_0's auc: 0.872124\tvalid_0's binary_logloss: 0.423074\n",
            "[72]\tvalid_0's auc: 0.872139\tvalid_0's binary_logloss: 0.423055\n",
            "[73]\tvalid_0's auc: 0.872153\tvalid_0's binary_logloss: 0.423018\n",
            "[74]\tvalid_0's auc: 0.872128\tvalid_0's binary_logloss: 0.423003\n",
            "[75]\tvalid_0's auc: 0.872177\tvalid_0's binary_logloss: 0.422916\n",
            "[76]\tvalid_0's auc: 0.872146\tvalid_0's binary_logloss: 0.422925\n",
            "[77]\tvalid_0's auc: 0.872107\tvalid_0's binary_logloss: 0.422933\n",
            "[78]\tvalid_0's auc: 0.872094\tvalid_0's binary_logloss: 0.422929\n",
            "[79]\tvalid_0's auc: 0.872063\tvalid_0's binary_logloss: 0.422941\n",
            "[80]\tvalid_0's auc: 0.872072\tvalid_0's binary_logloss: 0.422892\n",
            "[81]\tvalid_0's auc: 0.872074\tvalid_0's binary_logloss: 0.422859\n",
            "[82]\tvalid_0's auc: 0.872035\tvalid_0's binary_logloss: 0.422857\n",
            "[83]\tvalid_0's auc: 0.871978\tvalid_0's binary_logloss: 0.422883\n",
            "[84]\tvalid_0's auc: 0.871959\tvalid_0's binary_logloss: 0.422834\n",
            "[85]\tvalid_0's auc: 0.87195\tvalid_0's binary_logloss: 0.422812\n",
            "[86]\tvalid_0's auc: 0.871931\tvalid_0's binary_logloss: 0.422816\n",
            "[87]\tvalid_0's auc: 0.871903\tvalid_0's binary_logloss: 0.422831\n",
            "[88]\tvalid_0's auc: 0.871873\tvalid_0's binary_logloss: 0.422811\n",
            "[89]\tvalid_0's auc: 0.87187\tvalid_0's binary_logloss: 0.422794\n",
            "[90]\tvalid_0's auc: 0.871844\tvalid_0's binary_logloss: 0.422784\n",
            "[91]\tvalid_0's auc: 0.871826\tvalid_0's binary_logloss: 0.422788\n",
            "[92]\tvalid_0's auc: 0.871773\tvalid_0's binary_logloss: 0.422795\n",
            "[93]\tvalid_0's auc: 0.871748\tvalid_0's binary_logloss: 0.422774\n",
            "[94]\tvalid_0's auc: 0.871731\tvalid_0's binary_logloss: 0.422779\n",
            "[95]\tvalid_0's auc: 0.871723\tvalid_0's binary_logloss: 0.422776\n",
            "[96]\tvalid_0's auc: 0.871742\tvalid_0's binary_logloss: 0.42276\n",
            "[97]\tvalid_0's auc: 0.871734\tvalid_0's binary_logloss: 0.422745\n",
            "[98]\tvalid_0's auc: 0.871719\tvalid_0's binary_logloss: 0.422748\n",
            "[99]\tvalid_0's auc: 0.871703\tvalid_0's binary_logloss: 0.422748\n",
            "[100]\tvalid_0's auc: 0.871693\tvalid_0's binary_logloss: 0.422711\n",
            "ROC_AUC\n",
            "***************************\n",
            "0.8725071271327027\n",
            "None\n"
          ],
          "name": "stdout"
        },
        {
          "output_type": "stream",
          "text": [
            "/usr/local/lib/python3.7/dist-packages/lightgbm/basic.py:1209: UserWarning: categorical_feature in Dataset is overridden.\n",
            "New categorical_feature is ['AGE_BIN', 'CHANNEL_CODE', 'CREDIT_PRODUCT', 'GENDER', 'IS_ACTIVE', 'OCCUPATION', 'REGION_CODE', 'VINTAGE_BIN']\n",
            "  'New categorical_feature is {}'.format(sorted(list(categorical_feature))))\n"
          ],
          "name": "stderr"
        },
        {
          "output_type": "stream",
          "text": [
            "[1]\tvalid_0's auc: 0.864401\tvalid_0's binary_logloss: 0.652544\n",
            "[2]\tvalid_0's auc: 0.865864\tvalid_0's binary_logloss: 0.619643\n",
            "[3]\tvalid_0's auc: 0.869333\tvalid_0's binary_logloss: 0.590865\n",
            "[4]\tvalid_0's auc: 0.870056\tvalid_0's binary_logloss: 0.566993\n",
            "[5]\tvalid_0's auc: 0.870436\tvalid_0's binary_logloss: 0.547061\n",
            "[6]\tvalid_0's auc: 0.870705\tvalid_0's binary_logloss: 0.529911\n",
            "[7]\tvalid_0's auc: 0.870852\tvalid_0's binary_logloss: 0.515362\n",
            "[8]\tvalid_0's auc: 0.871115\tvalid_0's binary_logloss: 0.502991\n",
            "[9]\tvalid_0's auc: 0.871372\tvalid_0's binary_logloss: 0.49215\n",
            "[10]\tvalid_0's auc: 0.871189\tvalid_0's binary_logloss: 0.483424\n",
            "[11]\tvalid_0's auc: 0.871306\tvalid_0's binary_logloss: 0.475628\n",
            "[12]\tvalid_0's auc: 0.871051\tvalid_0's binary_logloss: 0.469335\n",
            "[13]\tvalid_0's auc: 0.871563\tvalid_0's binary_logloss: 0.466027\n",
            "[14]\tvalid_0's auc: 0.871434\tvalid_0's binary_logloss: 0.460965\n",
            "[15]\tvalid_0's auc: 0.871492\tvalid_0's binary_logloss: 0.456216\n",
            "[16]\tvalid_0's auc: 0.871774\tvalid_0's binary_logloss: 0.451809\n",
            "[17]\tvalid_0's auc: 0.872009\tvalid_0's binary_logloss: 0.448063\n",
            "[18]\tvalid_0's auc: 0.872229\tvalid_0's binary_logloss: 0.444671\n",
            "[19]\tvalid_0's auc: 0.872232\tvalid_0's binary_logloss: 0.44223\n",
            "[20]\tvalid_0's auc: 0.872356\tvalid_0's binary_logloss: 0.439668\n",
            "[21]\tvalid_0's auc: 0.872536\tvalid_0's binary_logloss: 0.437385\n",
            "[22]\tvalid_0's auc: 0.872673\tvalid_0's binary_logloss: 0.435494\n",
            "[23]\tvalid_0's auc: 0.872677\tvalid_0's binary_logloss: 0.434\n",
            "[24]\tvalid_0's auc: 0.872617\tvalid_0's binary_logloss: 0.432912\n",
            "[25]\tvalid_0's auc: 0.872762\tvalid_0's binary_logloss: 0.431572\n",
            "[26]\tvalid_0's auc: 0.872954\tvalid_0's binary_logloss: 0.430791\n",
            "[27]\tvalid_0's auc: 0.873069\tvalid_0's binary_logloss: 0.429685\n",
            "[28]\tvalid_0's auc: 0.873181\tvalid_0's binary_logloss: 0.429019\n",
            "[29]\tvalid_0's auc: 0.873231\tvalid_0's binary_logloss: 0.428158\n",
            "[30]\tvalid_0's auc: 0.873215\tvalid_0's binary_logloss: 0.428009\n",
            "[31]\tvalid_0's auc: 0.873247\tvalid_0's binary_logloss: 0.427298\n",
            "[32]\tvalid_0's auc: 0.87328\tvalid_0's binary_logloss: 0.426574\n",
            "[33]\tvalid_0's auc: 0.873273\tvalid_0's binary_logloss: 0.426051\n",
            "[34]\tvalid_0's auc: 0.87329\tvalid_0's binary_logloss: 0.425687\n",
            "[35]\tvalid_0's auc: 0.873284\tvalid_0's binary_logloss: 0.425393\n",
            "[36]\tvalid_0's auc: 0.873364\tvalid_0's binary_logloss: 0.424863\n",
            "[37]\tvalid_0's auc: 0.873389\tvalid_0's binary_logloss: 0.424461\n",
            "[38]\tvalid_0's auc: 0.87347\tvalid_0's binary_logloss: 0.424186\n",
            "[39]\tvalid_0's auc: 0.873521\tvalid_0's binary_logloss: 0.423877\n",
            "[40]\tvalid_0's auc: 0.87356\tvalid_0's binary_logloss: 0.423675\n",
            "[41]\tvalid_0's auc: 0.873578\tvalid_0's binary_logloss: 0.423385\n",
            "[42]\tvalid_0's auc: 0.873609\tvalid_0's binary_logloss: 0.423197\n",
            "[43]\tvalid_0's auc: 0.873711\tvalid_0's binary_logloss: 0.422974\n",
            "[44]\tvalid_0's auc: 0.873802\tvalid_0's binary_logloss: 0.422677\n",
            "[45]\tvalid_0's auc: 0.873808\tvalid_0's binary_logloss: 0.42254\n",
            "[46]\tvalid_0's auc: 0.873809\tvalid_0's binary_logloss: 0.422403\n",
            "[47]\tvalid_0's auc: 0.873784\tvalid_0's binary_logloss: 0.422322\n",
            "[48]\tvalid_0's auc: 0.873767\tvalid_0's binary_logloss: 0.422182\n",
            "[49]\tvalid_0's auc: 0.873806\tvalid_0's binary_logloss: 0.422062\n",
            "[50]\tvalid_0's auc: 0.873818\tvalid_0's binary_logloss: 0.421942\n",
            "[51]\tvalid_0's auc: 0.873827\tvalid_0's binary_logloss: 0.421831\n",
            "[52]\tvalid_0's auc: 0.873842\tvalid_0's binary_logloss: 0.421741\n",
            "[53]\tvalid_0's auc: 0.873837\tvalid_0's binary_logloss: 0.421665\n",
            "[54]\tvalid_0's auc: 0.873835\tvalid_0's binary_logloss: 0.421584\n",
            "[55]\tvalid_0's auc: 0.873865\tvalid_0's binary_logloss: 0.4215\n",
            "[56]\tvalid_0's auc: 0.873815\tvalid_0's binary_logloss: 0.421509\n",
            "[57]\tvalid_0's auc: 0.873855\tvalid_0's binary_logloss: 0.421365\n",
            "[58]\tvalid_0's auc: 0.873878\tvalid_0's binary_logloss: 0.42126\n",
            "[59]\tvalid_0's auc: 0.87388\tvalid_0's binary_logloss: 0.421183\n",
            "[60]\tvalid_0's auc: 0.873887\tvalid_0's binary_logloss: 0.421147\n",
            "[61]\tvalid_0's auc: 0.873839\tvalid_0's binary_logloss: 0.421131\n",
            "[62]\tvalid_0's auc: 0.873841\tvalid_0's binary_logloss: 0.421114\n",
            "[63]\tvalid_0's auc: 0.873843\tvalid_0's binary_logloss: 0.421069\n",
            "[64]\tvalid_0's auc: 0.873776\tvalid_0's binary_logloss: 0.421045\n",
            "[65]\tvalid_0's auc: 0.873736\tvalid_0's binary_logloss: 0.421062\n",
            "[66]\tvalid_0's auc: 0.873702\tvalid_0's binary_logloss: 0.420998\n",
            "[67]\tvalid_0's auc: 0.873709\tvalid_0's binary_logloss: 0.42098\n",
            "[68]\tvalid_0's auc: 0.873733\tvalid_0's binary_logloss: 0.420907\n",
            "[69]\tvalid_0's auc: 0.87372\tvalid_0's binary_logloss: 0.420883\n",
            "[70]\tvalid_0's auc: 0.873714\tvalid_0's binary_logloss: 0.420843\n",
            "[71]\tvalid_0's auc: 0.873726\tvalid_0's binary_logloss: 0.420766\n",
            "[72]\tvalid_0's auc: 0.873675\tvalid_0's binary_logloss: 0.420777\n",
            "[73]\tvalid_0's auc: 0.873626\tvalid_0's binary_logloss: 0.420808\n",
            "[74]\tvalid_0's auc: 0.873605\tvalid_0's binary_logloss: 0.420802\n",
            "[75]\tvalid_0's auc: 0.873539\tvalid_0's binary_logloss: 0.420818\n",
            "[76]\tvalid_0's auc: 0.873517\tvalid_0's binary_logloss: 0.420831\n",
            "[77]\tvalid_0's auc: 0.8735\tvalid_0's binary_logloss: 0.42081\n",
            "[78]\tvalid_0's auc: 0.873519\tvalid_0's binary_logloss: 0.420777\n",
            "[79]\tvalid_0's auc: 0.873485\tvalid_0's binary_logloss: 0.420775\n",
            "[80]\tvalid_0's auc: 0.873501\tvalid_0's binary_logloss: 0.42072\n",
            "[81]\tvalid_0's auc: 0.873549\tvalid_0's binary_logloss: 0.420693\n",
            "[82]\tvalid_0's auc: 0.87354\tvalid_0's binary_logloss: 0.420687\n",
            "[83]\tvalid_0's auc: 0.873519\tvalid_0's binary_logloss: 0.420689\n",
            "[84]\tvalid_0's auc: 0.873501\tvalid_0's binary_logloss: 0.420686\n",
            "[85]\tvalid_0's auc: 0.873493\tvalid_0's binary_logloss: 0.420682\n",
            "[86]\tvalid_0's auc: 0.873537\tvalid_0's binary_logloss: 0.420658\n",
            "[87]\tvalid_0's auc: 0.873507\tvalid_0's binary_logloss: 0.420649\n",
            "[88]\tvalid_0's auc: 0.873484\tvalid_0's binary_logloss: 0.420648\n",
            "[89]\tvalid_0's auc: 0.87348\tvalid_0's binary_logloss: 0.420632\n",
            "[90]\tvalid_0's auc: 0.873474\tvalid_0's binary_logloss: 0.420623\n",
            "[91]\tvalid_0's auc: 0.873464\tvalid_0's binary_logloss: 0.420598\n",
            "[92]\tvalid_0's auc: 0.873485\tvalid_0's binary_logloss: 0.420574\n",
            "[93]\tvalid_0's auc: 0.87344\tvalid_0's binary_logloss: 0.42058\n",
            "[94]\tvalid_0's auc: 0.873444\tvalid_0's binary_logloss: 0.420559\n",
            "[95]\tvalid_0's auc: 0.873438\tvalid_0's binary_logloss: 0.420515\n",
            "[96]\tvalid_0's auc: 0.87343\tvalid_0's binary_logloss: 0.420513\n",
            "[97]\tvalid_0's auc: 0.873429\tvalid_0's binary_logloss: 0.420459\n",
            "[98]\tvalid_0's auc: 0.87339\tvalid_0's binary_logloss: 0.420482\n",
            "[99]\tvalid_0's auc: 0.873411\tvalid_0's binary_logloss: 0.420446\n",
            "[100]\tvalid_0's auc: 0.87337\tvalid_0's binary_logloss: 0.420451\n",
            "ROC_AUC\n",
            "***************************\n",
            "0.8740889321007188\n",
            "None\n"
          ],
          "name": "stdout"
        },
        {
          "output_type": "stream",
          "text": [
            "/usr/local/lib/python3.7/dist-packages/lightgbm/basic.py:1209: UserWarning: categorical_feature in Dataset is overridden.\n",
            "New categorical_feature is ['AGE_BIN', 'CHANNEL_CODE', 'CREDIT_PRODUCT', 'GENDER', 'IS_ACTIVE', 'OCCUPATION', 'REGION_CODE', 'VINTAGE_BIN']\n",
            "  'New categorical_feature is {}'.format(sorted(list(categorical_feature))))\n"
          ],
          "name": "stderr"
        },
        {
          "output_type": "stream",
          "text": [
            "[1]\tvalid_0's auc: 0.866832\tvalid_0's binary_logloss: 0.652526\n",
            "[2]\tvalid_0's auc: 0.867813\tvalid_0's binary_logloss: 0.619449\n",
            "[3]\tvalid_0's auc: 0.869735\tvalid_0's binary_logloss: 0.590765\n",
            "[4]\tvalid_0's auc: 0.87055\tvalid_0's binary_logloss: 0.566908\n",
            "[5]\tvalid_0's auc: 0.870725\tvalid_0's binary_logloss: 0.547056\n",
            "[6]\tvalid_0's auc: 0.870846\tvalid_0's binary_logloss: 0.52999\n",
            "[7]\tvalid_0's auc: 0.871185\tvalid_0's binary_logloss: 0.515552\n",
            "[8]\tvalid_0's auc: 0.871232\tvalid_0's binary_logloss: 0.503235\n",
            "[9]\tvalid_0's auc: 0.871453\tvalid_0's binary_logloss: 0.49248\n",
            "[10]\tvalid_0's auc: 0.871616\tvalid_0's binary_logloss: 0.483732\n",
            "[11]\tvalid_0's auc: 0.87167\tvalid_0's binary_logloss: 0.475776\n",
            "[12]\tvalid_0's auc: 0.871592\tvalid_0's binary_logloss: 0.469381\n",
            "[13]\tvalid_0's auc: 0.871963\tvalid_0's binary_logloss: 0.466136\n",
            "[14]\tvalid_0's auc: 0.871856\tvalid_0's binary_logloss: 0.460999\n",
            "[15]\tvalid_0's auc: 0.871904\tvalid_0's binary_logloss: 0.456208\n",
            "[16]\tvalid_0's auc: 0.872157\tvalid_0's binary_logloss: 0.451833\n",
            "[17]\tvalid_0's auc: 0.872368\tvalid_0's binary_logloss: 0.448069\n",
            "[18]\tvalid_0's auc: 0.872546\tvalid_0's binary_logloss: 0.444729\n",
            "[19]\tvalid_0's auc: 0.872481\tvalid_0's binary_logloss: 0.442313\n",
            "[20]\tvalid_0's auc: 0.872573\tvalid_0's binary_logloss: 0.439806\n",
            "[21]\tvalid_0's auc: 0.8727\tvalid_0's binary_logloss: 0.437584\n",
            "[22]\tvalid_0's auc: 0.872728\tvalid_0's binary_logloss: 0.435701\n",
            "[23]\tvalid_0's auc: 0.872753\tvalid_0's binary_logloss: 0.434195\n",
            "[24]\tvalid_0's auc: 0.872758\tvalid_0's binary_logloss: 0.433076\n",
            "[25]\tvalid_0's auc: 0.872823\tvalid_0's binary_logloss: 0.431819\n",
            "[26]\tvalid_0's auc: 0.872804\tvalid_0's binary_logloss: 0.431147\n",
            "[27]\tvalid_0's auc: 0.872936\tvalid_0's binary_logloss: 0.430142\n",
            "[28]\tvalid_0's auc: 0.872953\tvalid_0's binary_logloss: 0.42957\n",
            "[29]\tvalid_0's auc: 0.872901\tvalid_0's binary_logloss: 0.428764\n",
            "[30]\tvalid_0's auc: 0.872869\tvalid_0's binary_logloss: 0.428582\n",
            "[31]\tvalid_0's auc: 0.872834\tvalid_0's binary_logloss: 0.427865\n",
            "[32]\tvalid_0's auc: 0.872933\tvalid_0's binary_logloss: 0.427145\n",
            "[33]\tvalid_0's auc: 0.872927\tvalid_0's binary_logloss: 0.426648\n",
            "[34]\tvalid_0's auc: 0.873014\tvalid_0's binary_logloss: 0.426328\n",
            "[35]\tvalid_0's auc: 0.873009\tvalid_0's binary_logloss: 0.426061\n",
            "[36]\tvalid_0's auc: 0.87308\tvalid_0's binary_logloss: 0.42558\n",
            "[37]\tvalid_0's auc: 0.873119\tvalid_0's binary_logloss: 0.425134\n",
            "[38]\tvalid_0's auc: 0.873178\tvalid_0's binary_logloss: 0.42491\n",
            "[39]\tvalid_0's auc: 0.873153\tvalid_0's binary_logloss: 0.424619\n",
            "[40]\tvalid_0's auc: 0.873186\tvalid_0's binary_logloss: 0.424358\n",
            "[41]\tvalid_0's auc: 0.873224\tvalid_0's binary_logloss: 0.424112\n",
            "[42]\tvalid_0's auc: 0.873182\tvalid_0's binary_logloss: 0.423968\n",
            "[43]\tvalid_0's auc: 0.873213\tvalid_0's binary_logloss: 0.423838\n",
            "[44]\tvalid_0's auc: 0.873216\tvalid_0's binary_logloss: 0.42363\n",
            "[45]\tvalid_0's auc: 0.873219\tvalid_0's binary_logloss: 0.42345\n",
            "[46]\tvalid_0's auc: 0.873221\tvalid_0's binary_logloss: 0.423369\n",
            "[47]\tvalid_0's auc: 0.873205\tvalid_0's binary_logloss: 0.423265\n",
            "[48]\tvalid_0's auc: 0.873207\tvalid_0's binary_logloss: 0.423184\n",
            "[49]\tvalid_0's auc: 0.873214\tvalid_0's binary_logloss: 0.423086\n",
            "[50]\tvalid_0's auc: 0.87322\tvalid_0's binary_logloss: 0.423002\n",
            "[51]\tvalid_0's auc: 0.873224\tvalid_0's binary_logloss: 0.422899\n",
            "[52]\tvalid_0's auc: 0.873206\tvalid_0's binary_logloss: 0.422829\n",
            "[53]\tvalid_0's auc: 0.873139\tvalid_0's binary_logloss: 0.422816\n",
            "[54]\tvalid_0's auc: 0.873147\tvalid_0's binary_logloss: 0.422758\n",
            "[55]\tvalid_0's auc: 0.873114\tvalid_0's binary_logloss: 0.422741\n",
            "[56]\tvalid_0's auc: 0.873172\tvalid_0's binary_logloss: 0.422697\n",
            "[57]\tvalid_0's auc: 0.873188\tvalid_0's binary_logloss: 0.42261\n",
            "[58]\tvalid_0's auc: 0.873164\tvalid_0's binary_logloss: 0.422518\n",
            "[59]\tvalid_0's auc: 0.873177\tvalid_0's binary_logloss: 0.422501\n",
            "[60]\tvalid_0's auc: 0.873159\tvalid_0's binary_logloss: 0.422449\n",
            "[61]\tvalid_0's auc: 0.873125\tvalid_0's binary_logloss: 0.422444\n",
            "[62]\tvalid_0's auc: 0.873122\tvalid_0's binary_logloss: 0.422441\n",
            "[63]\tvalid_0's auc: 0.873141\tvalid_0's binary_logloss: 0.422415\n",
            "[64]\tvalid_0's auc: 0.873119\tvalid_0's binary_logloss: 0.422376\n",
            "[65]\tvalid_0's auc: 0.873151\tvalid_0's binary_logloss: 0.422361\n",
            "[66]\tvalid_0's auc: 0.873219\tvalid_0's binary_logloss: 0.422303\n",
            "[67]\tvalid_0's auc: 0.873231\tvalid_0's binary_logloss: 0.422263\n",
            "[68]\tvalid_0's auc: 0.873215\tvalid_0's binary_logloss: 0.422266\n",
            "[69]\tvalid_0's auc: 0.873201\tvalid_0's binary_logloss: 0.42222\n",
            "[70]\tvalid_0's auc: 0.873219\tvalid_0's binary_logloss: 0.422207\n",
            "[71]\tvalid_0's auc: 0.873206\tvalid_0's binary_logloss: 0.422139\n",
            "[72]\tvalid_0's auc: 0.873234\tvalid_0's binary_logloss: 0.422094\n",
            "[73]\tvalid_0's auc: 0.873217\tvalid_0's binary_logloss: 0.422056\n",
            "[74]\tvalid_0's auc: 0.873218\tvalid_0's binary_logloss: 0.422026\n",
            "[75]\tvalid_0's auc: 0.873231\tvalid_0's binary_logloss: 0.422003\n",
            "[76]\tvalid_0's auc: 0.873222\tvalid_0's binary_logloss: 0.42196\n",
            "[77]\tvalid_0's auc: 0.873224\tvalid_0's binary_logloss: 0.421941\n",
            "[78]\tvalid_0's auc: 0.873207\tvalid_0's binary_logloss: 0.421924\n",
            "[79]\tvalid_0's auc: 0.873251\tvalid_0's binary_logloss: 0.421867\n",
            "[80]\tvalid_0's auc: 0.873191\tvalid_0's binary_logloss: 0.421863\n",
            "[81]\tvalid_0's auc: 0.873186\tvalid_0's binary_logloss: 0.421812\n",
            "[82]\tvalid_0's auc: 0.873183\tvalid_0's binary_logloss: 0.421795\n",
            "[83]\tvalid_0's auc: 0.873175\tvalid_0's binary_logloss: 0.421786\n",
            "[84]\tvalid_0's auc: 0.873211\tvalid_0's binary_logloss: 0.421734\n",
            "[85]\tvalid_0's auc: 0.873188\tvalid_0's binary_logloss: 0.421702\n",
            "[86]\tvalid_0's auc: 0.87315\tvalid_0's binary_logloss: 0.421725\n",
            "[87]\tvalid_0's auc: 0.873122\tvalid_0's binary_logloss: 0.421737\n",
            "[88]\tvalid_0's auc: 0.873123\tvalid_0's binary_logloss: 0.421731\n",
            "[89]\tvalid_0's auc: 0.873124\tvalid_0's binary_logloss: 0.421731\n",
            "[90]\tvalid_0's auc: 0.873145\tvalid_0's binary_logloss: 0.421712\n",
            "[91]\tvalid_0's auc: 0.873134\tvalid_0's binary_logloss: 0.42169\n",
            "[92]\tvalid_0's auc: 0.873145\tvalid_0's binary_logloss: 0.421683\n",
            "[93]\tvalid_0's auc: 0.873141\tvalid_0's binary_logloss: 0.421639\n",
            "[94]\tvalid_0's auc: 0.87311\tvalid_0's binary_logloss: 0.421666\n",
            "[95]\tvalid_0's auc: 0.873073\tvalid_0's binary_logloss: 0.421656\n",
            "[96]\tvalid_0's auc: 0.873066\tvalid_0's binary_logloss: 0.421663\n",
            "[97]\tvalid_0's auc: 0.873063\tvalid_0's binary_logloss: 0.421646\n",
            "[98]\tvalid_0's auc: 0.873019\tvalid_0's binary_logloss: 0.421653\n",
            "[99]\tvalid_0's auc: 0.87302\tvalid_0's binary_logloss: 0.421639\n",
            "[100]\tvalid_0's auc: 0.872998\tvalid_0's binary_logloss: 0.421625\n",
            "ROC_AUC\n",
            "***************************\n",
            "0.873571320930914\n",
            "None\n"
          ],
          "name": "stdout"
        },
        {
          "output_type": "stream",
          "text": [
            "/usr/local/lib/python3.7/dist-packages/lightgbm/basic.py:1209: UserWarning: categorical_feature in Dataset is overridden.\n",
            "New categorical_feature is ['AGE_BIN', 'CHANNEL_CODE', 'CREDIT_PRODUCT', 'GENDER', 'IS_ACTIVE', 'OCCUPATION', 'REGION_CODE', 'VINTAGE_BIN']\n",
            "  'New categorical_feature is {}'.format(sorted(list(categorical_feature))))\n"
          ],
          "name": "stderr"
        },
        {
          "output_type": "stream",
          "text": [
            "[1]\tvalid_0's auc: 0.865596\tvalid_0's binary_logloss: 0.652851\n",
            "[2]\tvalid_0's auc: 0.867336\tvalid_0's binary_logloss: 0.62011\n",
            "[3]\tvalid_0's auc: 0.8697\tvalid_0's binary_logloss: 0.59175\n",
            "[4]\tvalid_0's auc: 0.870279\tvalid_0's binary_logloss: 0.568115\n",
            "[5]\tvalid_0's auc: 0.870539\tvalid_0's binary_logloss: 0.54862\n",
            "[6]\tvalid_0's auc: 0.870913\tvalid_0's binary_logloss: 0.531671\n",
            "[7]\tvalid_0's auc: 0.870894\tvalid_0's binary_logloss: 0.517373\n",
            "[8]\tvalid_0's auc: 0.871553\tvalid_0's binary_logloss: 0.505111\n",
            "[9]\tvalid_0's auc: 0.871588\tvalid_0's binary_logloss: 0.494565\n",
            "[10]\tvalid_0's auc: 0.871594\tvalid_0's binary_logloss: 0.485956\n",
            "[11]\tvalid_0's auc: 0.871671\tvalid_0's binary_logloss: 0.478217\n",
            "[12]\tvalid_0's auc: 0.871441\tvalid_0's binary_logloss: 0.472011\n",
            "[13]\tvalid_0's auc: 0.871989\tvalid_0's binary_logloss: 0.468732\n",
            "[14]\tvalid_0's auc: 0.871867\tvalid_0's binary_logloss: 0.463751\n",
            "[15]\tvalid_0's auc: 0.871913\tvalid_0's binary_logloss: 0.459102\n",
            "[16]\tvalid_0's auc: 0.872077\tvalid_0's binary_logloss: 0.454871\n",
            "[17]\tvalid_0's auc: 0.872257\tvalid_0's binary_logloss: 0.45114\n",
            "[18]\tvalid_0's auc: 0.872373\tvalid_0's binary_logloss: 0.447938\n",
            "[19]\tvalid_0's auc: 0.872361\tvalid_0's binary_logloss: 0.44558\n",
            "[20]\tvalid_0's auc: 0.872483\tvalid_0's binary_logloss: 0.443063\n",
            "[21]\tvalid_0's auc: 0.872642\tvalid_0's binary_logloss: 0.440925\n",
            "[22]\tvalid_0's auc: 0.872686\tvalid_0's binary_logloss: 0.439126\n",
            "[23]\tvalid_0's auc: 0.872774\tvalid_0's binary_logloss: 0.437658\n",
            "[24]\tvalid_0's auc: 0.872723\tvalid_0's binary_logloss: 0.436626\n",
            "[25]\tvalid_0's auc: 0.872746\tvalid_0's binary_logloss: 0.435362\n",
            "[26]\tvalid_0's auc: 0.87285\tvalid_0's binary_logloss: 0.434626\n",
            "[27]\tvalid_0's auc: 0.872937\tvalid_0's binary_logloss: 0.433565\n",
            "[28]\tvalid_0's auc: 0.872959\tvalid_0's binary_logloss: 0.433016\n",
            "[29]\tvalid_0's auc: 0.873026\tvalid_0's binary_logloss: 0.43222\n",
            "[30]\tvalid_0's auc: 0.873046\tvalid_0's binary_logloss: 0.432034\n",
            "[31]\tvalid_0's auc: 0.873105\tvalid_0's binary_logloss: 0.431321\n",
            "[32]\tvalid_0's auc: 0.873165\tvalid_0's binary_logloss: 0.430629\n",
            "[33]\tvalid_0's auc: 0.873136\tvalid_0's binary_logloss: 0.430136\n",
            "[34]\tvalid_0's auc: 0.873245\tvalid_0's binary_logloss: 0.429776\n",
            "[35]\tvalid_0's auc: 0.873252\tvalid_0's binary_logloss: 0.429484\n",
            "[36]\tvalid_0's auc: 0.873289\tvalid_0's binary_logloss: 0.429085\n",
            "[37]\tvalid_0's auc: 0.873311\tvalid_0's binary_logloss: 0.428747\n",
            "[38]\tvalid_0's auc: 0.87334\tvalid_0's binary_logloss: 0.428509\n",
            "[39]\tvalid_0's auc: 0.873383\tvalid_0's binary_logloss: 0.42825\n",
            "[40]\tvalid_0's auc: 0.873482\tvalid_0's binary_logloss: 0.428033\n",
            "[41]\tvalid_0's auc: 0.873574\tvalid_0's binary_logloss: 0.427803\n",
            "[42]\tvalid_0's auc: 0.87358\tvalid_0's binary_logloss: 0.427661\n",
            "[43]\tvalid_0's auc: 0.873615\tvalid_0's binary_logloss: 0.427532\n",
            "[44]\tvalid_0's auc: 0.873592\tvalid_0's binary_logloss: 0.427342\n",
            "[45]\tvalid_0's auc: 0.873546\tvalid_0's binary_logloss: 0.427194\n",
            "[46]\tvalid_0's auc: 0.873565\tvalid_0's binary_logloss: 0.42708\n",
            "[47]\tvalid_0's auc: 0.873616\tvalid_0's binary_logloss: 0.426988\n",
            "[48]\tvalid_0's auc: 0.873612\tvalid_0's binary_logloss: 0.426867\n",
            "[49]\tvalid_0's auc: 0.873661\tvalid_0's binary_logloss: 0.426746\n",
            "[50]\tvalid_0's auc: 0.873638\tvalid_0's binary_logloss: 0.426687\n",
            "[51]\tvalid_0's auc: 0.873633\tvalid_0's binary_logloss: 0.4266\n",
            "[52]\tvalid_0's auc: 0.873682\tvalid_0's binary_logloss: 0.426524\n",
            "[53]\tvalid_0's auc: 0.873703\tvalid_0's binary_logloss: 0.426397\n",
            "[54]\tvalid_0's auc: 0.873657\tvalid_0's binary_logloss: 0.426378\n",
            "[55]\tvalid_0's auc: 0.873646\tvalid_0's binary_logloss: 0.426348\n",
            "[56]\tvalid_0's auc: 0.873684\tvalid_0's binary_logloss: 0.426306\n",
            "[57]\tvalid_0's auc: 0.87371\tvalid_0's binary_logloss: 0.426212\n",
            "[58]\tvalid_0's auc: 0.87372\tvalid_0's binary_logloss: 0.426134\n",
            "[59]\tvalid_0's auc: 0.873734\tvalid_0's binary_logloss: 0.426097\n",
            "[60]\tvalid_0's auc: 0.873734\tvalid_0's binary_logloss: 0.426033\n",
            "[61]\tvalid_0's auc: 0.873701\tvalid_0's binary_logloss: 0.426005\n",
            "[62]\tvalid_0's auc: 0.873672\tvalid_0's binary_logloss: 0.426018\n",
            "[63]\tvalid_0's auc: 0.873654\tvalid_0's binary_logloss: 0.425982\n",
            "[64]\tvalid_0's auc: 0.87366\tvalid_0's binary_logloss: 0.425968\n",
            "[65]\tvalid_0's auc: 0.873647\tvalid_0's binary_logloss: 0.425959\n",
            "[66]\tvalid_0's auc: 0.873647\tvalid_0's binary_logloss: 0.425919\n",
            "[67]\tvalid_0's auc: 0.873592\tvalid_0's binary_logloss: 0.425917\n",
            "[68]\tvalid_0's auc: 0.873581\tvalid_0's binary_logloss: 0.425892\n",
            "[69]\tvalid_0's auc: 0.873584\tvalid_0's binary_logloss: 0.425867\n",
            "[70]\tvalid_0's auc: 0.873567\tvalid_0's binary_logloss: 0.425869\n",
            "[71]\tvalid_0's auc: 0.873586\tvalid_0's binary_logloss: 0.425811\n",
            "[72]\tvalid_0's auc: 0.873534\tvalid_0's binary_logloss: 0.425823\n",
            "[73]\tvalid_0's auc: 0.873588\tvalid_0's binary_logloss: 0.425758\n",
            "[74]\tvalid_0's auc: 0.873616\tvalid_0's binary_logloss: 0.425731\n",
            "[75]\tvalid_0's auc: 0.873632\tvalid_0's binary_logloss: 0.425707\n",
            "[76]\tvalid_0's auc: 0.873619\tvalid_0's binary_logloss: 0.425722\n",
            "[77]\tvalid_0's auc: 0.873599\tvalid_0's binary_logloss: 0.425703\n",
            "[78]\tvalid_0's auc: 0.873588\tvalid_0's binary_logloss: 0.425696\n",
            "[79]\tvalid_0's auc: 0.8736\tvalid_0's binary_logloss: 0.425655\n",
            "[80]\tvalid_0's auc: 0.873592\tvalid_0's binary_logloss: 0.425661\n",
            "[81]\tvalid_0's auc: 0.873619\tvalid_0's binary_logloss: 0.425633\n",
            "[82]\tvalid_0's auc: 0.873614\tvalid_0's binary_logloss: 0.425588\n",
            "[83]\tvalid_0's auc: 0.873606\tvalid_0's binary_logloss: 0.425582\n",
            "[84]\tvalid_0's auc: 0.87359\tvalid_0's binary_logloss: 0.42559\n",
            "[85]\tvalid_0's auc: 0.87359\tvalid_0's binary_logloss: 0.425576\n",
            "[86]\tvalid_0's auc: 0.873567\tvalid_0's binary_logloss: 0.425571\n",
            "[87]\tvalid_0's auc: 0.873583\tvalid_0's binary_logloss: 0.42554\n",
            "[88]\tvalid_0's auc: 0.873623\tvalid_0's binary_logloss: 0.425502\n",
            "[89]\tvalid_0's auc: 0.873582\tvalid_0's binary_logloss: 0.42552\n",
            "[90]\tvalid_0's auc: 0.873576\tvalid_0's binary_logloss: 0.425521\n",
            "[91]\tvalid_0's auc: 0.873568\tvalid_0's binary_logloss: 0.42551\n",
            "[92]\tvalid_0's auc: 0.873581\tvalid_0's binary_logloss: 0.425463\n",
            "[93]\tvalid_0's auc: 0.873568\tvalid_0's binary_logloss: 0.425449\n",
            "[94]\tvalid_0's auc: 0.873587\tvalid_0's binary_logloss: 0.425427\n",
            "[95]\tvalid_0's auc: 0.873586\tvalid_0's binary_logloss: 0.425403\n",
            "[96]\tvalid_0's auc: 0.873594\tvalid_0's binary_logloss: 0.425404\n",
            "[97]\tvalid_0's auc: 0.873603\tvalid_0's binary_logloss: 0.425381\n",
            "[98]\tvalid_0's auc: 0.873531\tvalid_0's binary_logloss: 0.425384\n",
            "[99]\tvalid_0's auc: 0.87352\tvalid_0's binary_logloss: 0.425383\n",
            "[100]\tvalid_0's auc: 0.873519\tvalid_0's binary_logloss: 0.425366\n",
            "ROC_AUC\n",
            "***************************\n",
            "0.8740781198270081\n",
            "None\n"
          ],
          "name": "stdout"
        },
        {
          "output_type": "stream",
          "text": [
            "/usr/local/lib/python3.7/dist-packages/lightgbm/basic.py:1209: UserWarning: categorical_feature in Dataset is overridden.\n",
            "New categorical_feature is ['AGE_BIN', 'CHANNEL_CODE', 'CREDIT_PRODUCT', 'GENDER', 'IS_ACTIVE', 'OCCUPATION', 'REGION_CODE', 'VINTAGE_BIN']\n",
            "  'New categorical_feature is {}'.format(sorted(list(categorical_feature))))\n"
          ],
          "name": "stderr"
        },
        {
          "output_type": "stream",
          "text": [
            "[1]\tvalid_0's auc: 0.86646\tvalid_0's binary_logloss: 0.652583\n",
            "[2]\tvalid_0's auc: 0.867969\tvalid_0's binary_logloss: 0.619694\n",
            "[3]\tvalid_0's auc: 0.870693\tvalid_0's binary_logloss: 0.59104\n",
            "[4]\tvalid_0's auc: 0.871492\tvalid_0's binary_logloss: 0.567175\n",
            "[5]\tvalid_0's auc: 0.871516\tvalid_0's binary_logloss: 0.547345\n",
            "[6]\tvalid_0's auc: 0.871859\tvalid_0's binary_logloss: 0.530211\n",
            "[7]\tvalid_0's auc: 0.872259\tvalid_0's binary_logloss: 0.51559\n",
            "[8]\tvalid_0's auc: 0.872489\tvalid_0's binary_logloss: 0.503244\n",
            "[9]\tvalid_0's auc: 0.872925\tvalid_0's binary_logloss: 0.492367\n",
            "[10]\tvalid_0's auc: 0.872881\tvalid_0's binary_logloss: 0.483576\n",
            "[11]\tvalid_0's auc: 0.873033\tvalid_0's binary_logloss: 0.475661\n",
            "[12]\tvalid_0's auc: 0.872887\tvalid_0's binary_logloss: 0.469255\n",
            "[13]\tvalid_0's auc: 0.873289\tvalid_0's binary_logloss: 0.46588\n",
            "[14]\tvalid_0's auc: 0.873089\tvalid_0's binary_logloss: 0.46079\n",
            "[15]\tvalid_0's auc: 0.873173\tvalid_0's binary_logloss: 0.456033\n",
            "[16]\tvalid_0's auc: 0.87337\tvalid_0's binary_logloss: 0.45165\n",
            "[17]\tvalid_0's auc: 0.873643\tvalid_0's binary_logloss: 0.447756\n",
            "[18]\tvalid_0's auc: 0.873921\tvalid_0's binary_logloss: 0.444325\n",
            "[19]\tvalid_0's auc: 0.873837\tvalid_0's binary_logloss: 0.441918\n",
            "[20]\tvalid_0's auc: 0.874105\tvalid_0's binary_logloss: 0.439253\n",
            "[21]\tvalid_0's auc: 0.874273\tvalid_0's binary_logloss: 0.436985\n",
            "[22]\tvalid_0's auc: 0.874384\tvalid_0's binary_logloss: 0.435054\n",
            "[23]\tvalid_0's auc: 0.874562\tvalid_0's binary_logloss: 0.433266\n",
            "[24]\tvalid_0's auc: 0.874477\tvalid_0's binary_logloss: 0.432155\n",
            "[25]\tvalid_0's auc: 0.874612\tvalid_0's binary_logloss: 0.430844\n",
            "[26]\tvalid_0's auc: 0.874681\tvalid_0's binary_logloss: 0.430109\n",
            "[27]\tvalid_0's auc: 0.874804\tvalid_0's binary_logloss: 0.429068\n",
            "[28]\tvalid_0's auc: 0.874908\tvalid_0's binary_logloss: 0.428453\n",
            "[29]\tvalid_0's auc: 0.874916\tvalid_0's binary_logloss: 0.427632\n",
            "[30]\tvalid_0's auc: 0.874874\tvalid_0's binary_logloss: 0.427432\n",
            "[31]\tvalid_0's auc: 0.874904\tvalid_0's binary_logloss: 0.426737\n",
            "[32]\tvalid_0's auc: 0.875033\tvalid_0's binary_logloss: 0.426015\n",
            "[33]\tvalid_0's auc: 0.875013\tvalid_0's binary_logloss: 0.425515\n",
            "[34]\tvalid_0's auc: 0.875156\tvalid_0's binary_logloss: 0.425131\n",
            "[35]\tvalid_0's auc: 0.875113\tvalid_0's binary_logloss: 0.424869\n",
            "[36]\tvalid_0's auc: 0.875179\tvalid_0's binary_logloss: 0.424436\n",
            "[37]\tvalid_0's auc: 0.875219\tvalid_0's binary_logloss: 0.423985\n",
            "[38]\tvalid_0's auc: 0.875287\tvalid_0's binary_logloss: 0.423701\n",
            "[39]\tvalid_0's auc: 0.87529\tvalid_0's binary_logloss: 0.423339\n",
            "[40]\tvalid_0's auc: 0.875388\tvalid_0's binary_logloss: 0.423077\n",
            "[41]\tvalid_0's auc: 0.875386\tvalid_0's binary_logloss: 0.422887\n",
            "[42]\tvalid_0's auc: 0.875411\tvalid_0's binary_logloss: 0.422724\n",
            "[43]\tvalid_0's auc: 0.875455\tvalid_0's binary_logloss: 0.42257\n",
            "[44]\tvalid_0's auc: 0.875459\tvalid_0's binary_logloss: 0.422325\n",
            "[45]\tvalid_0's auc: 0.875471\tvalid_0's binary_logloss: 0.422145\n",
            "[46]\tvalid_0's auc: 0.875494\tvalid_0's binary_logloss: 0.421993\n",
            "[47]\tvalid_0's auc: 0.875538\tvalid_0's binary_logloss: 0.421814\n",
            "[48]\tvalid_0's auc: 0.8755\tvalid_0's binary_logloss: 0.421645\n",
            "[49]\tvalid_0's auc: 0.875436\tvalid_0's binary_logloss: 0.42159\n",
            "[50]\tvalid_0's auc: 0.875408\tvalid_0's binary_logloss: 0.421521\n",
            "[51]\tvalid_0's auc: 0.875345\tvalid_0's binary_logloss: 0.421478\n",
            "[52]\tvalid_0's auc: 0.875393\tvalid_0's binary_logloss: 0.421388\n",
            "[53]\tvalid_0's auc: 0.87541\tvalid_0's binary_logloss: 0.421256\n",
            "[54]\tvalid_0's auc: 0.875418\tvalid_0's binary_logloss: 0.42117\n",
            "[55]\tvalid_0's auc: 0.875451\tvalid_0's binary_logloss: 0.421106\n",
            "[56]\tvalid_0's auc: 0.875414\tvalid_0's binary_logloss: 0.421103\n",
            "[57]\tvalid_0's auc: 0.875442\tvalid_0's binary_logloss: 0.420966\n",
            "[58]\tvalid_0's auc: 0.875441\tvalid_0's binary_logloss: 0.420894\n",
            "[59]\tvalid_0's auc: 0.875396\tvalid_0's binary_logloss: 0.420926\n",
            "[60]\tvalid_0's auc: 0.875415\tvalid_0's binary_logloss: 0.420834\n",
            "[61]\tvalid_0's auc: 0.875429\tvalid_0's binary_logloss: 0.420798\n",
            "[62]\tvalid_0's auc: 0.875419\tvalid_0's binary_logloss: 0.420714\n",
            "[63]\tvalid_0's auc: 0.875353\tvalid_0's binary_logloss: 0.42073\n",
            "[64]\tvalid_0's auc: 0.875368\tvalid_0's binary_logloss: 0.420704\n",
            "[65]\tvalid_0's auc: 0.875366\tvalid_0's binary_logloss: 0.420689\n",
            "[66]\tvalid_0's auc: 0.875382\tvalid_0's binary_logloss: 0.420605\n",
            "[67]\tvalid_0's auc: 0.875367\tvalid_0's binary_logloss: 0.420601\n",
            "[68]\tvalid_0's auc: 0.875381\tvalid_0's binary_logloss: 0.420548\n",
            "[69]\tvalid_0's auc: 0.87538\tvalid_0's binary_logloss: 0.420525\n",
            "[70]\tvalid_0's auc: 0.875387\tvalid_0's binary_logloss: 0.420466\n",
            "[71]\tvalid_0's auc: 0.875397\tvalid_0's binary_logloss: 0.420443\n",
            "[72]\tvalid_0's auc: 0.875406\tvalid_0's binary_logloss: 0.420411\n",
            "[73]\tvalid_0's auc: 0.875423\tvalid_0's binary_logloss: 0.420377\n",
            "[74]\tvalid_0's auc: 0.87545\tvalid_0's binary_logloss: 0.420338\n",
            "[75]\tvalid_0's auc: 0.875463\tvalid_0's binary_logloss: 0.420315\n",
            "[76]\tvalid_0's auc: 0.87546\tvalid_0's binary_logloss: 0.420294\n",
            "[77]\tvalid_0's auc: 0.875447\tvalid_0's binary_logloss: 0.420253\n",
            "[78]\tvalid_0's auc: 0.875419\tvalid_0's binary_logloss: 0.420277\n",
            "[79]\tvalid_0's auc: 0.875396\tvalid_0's binary_logloss: 0.420256\n",
            "[80]\tvalid_0's auc: 0.875401\tvalid_0's binary_logloss: 0.420246\n",
            "[81]\tvalid_0's auc: 0.875404\tvalid_0's binary_logloss: 0.420202\n",
            "[82]\tvalid_0's auc: 0.87539\tvalid_0's binary_logloss: 0.420188\n",
            "[83]\tvalid_0's auc: 0.875381\tvalid_0's binary_logloss: 0.420193\n",
            "[84]\tvalid_0's auc: 0.875354\tvalid_0's binary_logloss: 0.420169\n",
            "[85]\tvalid_0's auc: 0.875356\tvalid_0's binary_logloss: 0.420137\n",
            "[86]\tvalid_0's auc: 0.875349\tvalid_0's binary_logloss: 0.420076\n",
            "[87]\tvalid_0's auc: 0.875316\tvalid_0's binary_logloss: 0.420058\n",
            "[88]\tvalid_0's auc: 0.875363\tvalid_0's binary_logloss: 0.419993\n",
            "[89]\tvalid_0's auc: 0.875353\tvalid_0's binary_logloss: 0.419984\n",
            "[90]\tvalid_0's auc: 0.875337\tvalid_0's binary_logloss: 0.419969\n",
            "[91]\tvalid_0's auc: 0.875309\tvalid_0's binary_logloss: 0.419927\n",
            "[92]\tvalid_0's auc: 0.875338\tvalid_0's binary_logloss: 0.419888\n",
            "[93]\tvalid_0's auc: 0.875262\tvalid_0's binary_logloss: 0.419899\n",
            "[94]\tvalid_0's auc: 0.875267\tvalid_0's binary_logloss: 0.419913\n",
            "[95]\tvalid_0's auc: 0.875239\tvalid_0's binary_logloss: 0.419921\n",
            "[96]\tvalid_0's auc: 0.875282\tvalid_0's binary_logloss: 0.419874\n",
            "[97]\tvalid_0's auc: 0.875305\tvalid_0's binary_logloss: 0.419798\n",
            "[98]\tvalid_0's auc: 0.875292\tvalid_0's binary_logloss: 0.419808\n",
            "[99]\tvalid_0's auc: 0.875287\tvalid_0's binary_logloss: 0.419792\n",
            "[100]\tvalid_0's auc: 0.875279\tvalid_0's binary_logloss: 0.419777\n",
            "ROC_AUC\n",
            "***************************\n",
            "0.876036938073112\n",
            "None\n",
            "\n"
          ],
          "name": "stdout"
        }
      ]
    },
    {
      "cell_type": "code",
      "metadata": {
        "colab": {
          "base_uri": "https://localhost:8080/",
          "height": 215
        },
        "id": "_EWZnwGd-oEd",
        "outputId": "95abb89d-16a8-4f4f-878a-0907325f7f01"
      },
      "source": [
        "train.head()"
      ],
      "execution_count": 161,
      "outputs": [
        {
          "output_type": "execute_result",
          "data": {
            "text/html": [
              "<div>\n",
              "<style scoped>\n",
              "    .dataframe tbody tr th:only-of-type {\n",
              "        vertical-align: middle;\n",
              "    }\n",
              "\n",
              "    .dataframe tbody tr th {\n",
              "        vertical-align: top;\n",
              "    }\n",
              "\n",
              "    .dataframe thead th {\n",
              "        text-align: right;\n",
              "    }\n",
              "</style>\n",
              "<table border=\"1\" class=\"dataframe\">\n",
              "  <thead>\n",
              "    <tr style=\"text-align: right;\">\n",
              "      <th></th>\n",
              "      <th>ID</th>\n",
              "      <th>GENDER</th>\n",
              "      <th>AGE</th>\n",
              "      <th>REGION_CODE</th>\n",
              "      <th>OCCUPATION</th>\n",
              "      <th>CHANNEL_CODE</th>\n",
              "      <th>VINTAGE</th>\n",
              "      <th>CREDIT_PRODUCT</th>\n",
              "      <th>AVG_ACCOUNT_BALANCE</th>\n",
              "      <th>IS_ACTIVE</th>\n",
              "      <th>IS_LEAD</th>\n",
              "      <th>KFOLD</th>\n",
              "      <th>IS_TRAIN</th>\n",
              "      <th>AVG_ACCOUNT_BALANCE_MEAN_0</th>\n",
              "      <th>AVG_ACCOUNT_BALANCE_STD_0</th>\n",
              "      <th>AVG_ACCOUNT_BALANCE_SKEW_0</th>\n",
              "      <th>AVG_ACCOUNT_BALANCE_KURTOSIS_0</th>\n",
              "      <th>AVG_ACCOUNT_BALANCE_IQR_0</th>\n",
              "      <th>AVG_ACCOUNT_BALANCE_RANGE_0</th>\n",
              "      <th>AGE_BIN</th>\n",
              "      <th>VINTAGE_BIN</th>\n",
              "      <th>RATIO_AGE_VINTAGE</th>\n",
              "      <th>RATIO_AC_BAL_AGE</th>\n",
              "    </tr>\n",
              "  </thead>\n",
              "  <tbody>\n",
              "    <tr>\n",
              "      <th>0</th>\n",
              "      <td>NNVBBKZB</td>\n",
              "      <td>0</td>\n",
              "      <td>4.290459</td>\n",
              "      <td>18</td>\n",
              "      <td>1</td>\n",
              "      <td>2</td>\n",
              "      <td>3.761200</td>\n",
              "      <td>0</td>\n",
              "      <td>13.860193</td>\n",
              "      <td>0</td>\n",
              "      <td>0.0</td>\n",
              "      <td>0.0</td>\n",
              "      <td>1</td>\n",
              "      <td>14.201545</td>\n",
              "      <td>13.831297</td>\n",
              "      <td>0.897308</td>\n",
              "      <td>2.248605</td>\n",
              "      <td>13.808118</td>\n",
              "      <td>16.148243</td>\n",
              "      <td>4</td>\n",
              "      <td>1</td>\n",
              "      <td>0.529259</td>\n",
              "      <td>9.569734</td>\n",
              "    </tr>\n",
              "    <tr>\n",
              "      <th>1</th>\n",
              "      <td>IDD62UNG</td>\n",
              "      <td>0</td>\n",
              "      <td>3.401197</td>\n",
              "      <td>27</td>\n",
              "      <td>2</td>\n",
              "      <td>0</td>\n",
              "      <td>3.465736</td>\n",
              "      <td>0</td>\n",
              "      <td>13.274205</td>\n",
              "      <td>0</td>\n",
              "      <td>0.0</td>\n",
              "      <td>0.0</td>\n",
              "      <td>1</td>\n",
              "      <td>13.796163</td>\n",
              "      <td>13.463322</td>\n",
              "      <td>1.255523</td>\n",
              "      <td>3.128844</td>\n",
              "      <td>13.313663</td>\n",
              "      <td>16.076526</td>\n",
              "      <td>0</td>\n",
              "      <td>1</td>\n",
              "      <td>-0.064539</td>\n",
              "      <td>9.873008</td>\n",
              "    </tr>\n",
              "    <tr>\n",
              "      <th>2</th>\n",
              "      <td>HD3DSEMC</td>\n",
              "      <td>0</td>\n",
              "      <td>4.025352</td>\n",
              "      <td>18</td>\n",
              "      <td>3</td>\n",
              "      <td>2</td>\n",
              "      <td>3.258097</td>\n",
              "      <td>0</td>\n",
              "      <td>14.210464</td>\n",
              "      <td>1</td>\n",
              "      <td>0.0</td>\n",
              "      <td>0.0</td>\n",
              "      <td>1</td>\n",
              "      <td>14.201545</td>\n",
              "      <td>13.831297</td>\n",
              "      <td>0.897308</td>\n",
              "      <td>2.248605</td>\n",
              "      <td>13.808118</td>\n",
              "      <td>16.148243</td>\n",
              "      <td>3</td>\n",
              "      <td>0</td>\n",
              "      <td>0.767255</td>\n",
              "      <td>10.185112</td>\n",
              "    </tr>\n",
              "    <tr>\n",
              "      <th>3</th>\n",
              "      <td>BF3NC7KV</td>\n",
              "      <td>1</td>\n",
              "      <td>3.526361</td>\n",
              "      <td>20</td>\n",
              "      <td>2</td>\n",
              "      <td>0</td>\n",
              "      <td>2.944439</td>\n",
              "      <td>0</td>\n",
              "      <td>13.061453</td>\n",
              "      <td>0</td>\n",
              "      <td>0.0</td>\n",
              "      <td>0.0</td>\n",
              "      <td>1</td>\n",
              "      <td>13.453147</td>\n",
              "      <td>12.886357</td>\n",
              "      <td>1.122560</td>\n",
              "      <td>3.110711</td>\n",
              "      <td>12.737262</td>\n",
              "      <td>15.895963</td>\n",
              "      <td>1</td>\n",
              "      <td>0</td>\n",
              "      <td>0.581922</td>\n",
              "      <td>9.535093</td>\n",
              "    </tr>\n",
              "    <tr>\n",
              "      <th>4</th>\n",
              "      <td>TEASRWXV</td>\n",
              "      <td>0</td>\n",
              "      <td>3.401197</td>\n",
              "      <td>32</td>\n",
              "      <td>2</td>\n",
              "      <td>0</td>\n",
              "      <td>3.496508</td>\n",
              "      <td>0</td>\n",
              "      <td>13.695360</td>\n",
              "      <td>0</td>\n",
              "      <td>0.0</td>\n",
              "      <td>0.0</td>\n",
              "      <td>1</td>\n",
              "      <td>13.774688</td>\n",
              "      <td>13.165286</td>\n",
              "      <td>0.886108</td>\n",
              "      <td>2.794600</td>\n",
              "      <td>13.233459</td>\n",
              "      <td>15.930395</td>\n",
              "      <td>0</td>\n",
              "      <td>1</td>\n",
              "      <td>-0.095310</td>\n",
              "      <td>10.294163</td>\n",
              "    </tr>\n",
              "  </tbody>\n",
              "</table>\n",
              "</div>"
            ],
            "text/plain": [
              "         ID  GENDER       AGE  ...  VINTAGE_BIN  RATIO_AGE_VINTAGE  RATIO_AC_BAL_AGE\n",
              "0  NNVBBKZB       0  4.290459  ...            1           0.529259          9.569734\n",
              "1  IDD62UNG       0  3.401197  ...            1          -0.064539          9.873008\n",
              "2  HD3DSEMC       0  4.025352  ...            0           0.767255         10.185112\n",
              "3  BF3NC7KV       1  3.526361  ...            0           0.581922          9.535093\n",
              "4  TEASRWXV       0  3.401197  ...            1          -0.095310         10.294163\n",
              "\n",
              "[5 rows x 23 columns]"
            ]
          },
          "metadata": {
            "tags": []
          },
          "execution_count": 161
        }
      ]
    },
    {
      "cell_type": "code",
      "metadata": {
        "colab": {
          "base_uri": "https://localhost:8080/"
        },
        "id": "eLNyRZy5SV_w",
        "outputId": "71de1ccc-1713-4f8b-99d1-622bc7208ec7"
      },
      "source": [
        "test_pred1 = np.mean(test_pred, axis=0)\n",
        "\n",
        "test['Is_Lead'] = test_pred1\n",
        "\n",
        "test[['ID','Is_Lead']].to_csv('baseline.csv', index=False)"
      ],
      "execution_count": 186,
      "outputs": [
        {
          "output_type": "stream",
          "text": [
            "/usr/local/lib/python3.7/dist-packages/ipykernel_launcher.py:3: SettingWithCopyWarning: \n",
            "A value is trying to be set on a copy of a slice from a DataFrame.\n",
            "Try using .loc[row_indexer,col_indexer] = value instead\n",
            "\n",
            "See the caveats in the documentation: https://pandas.pydata.org/pandas-docs/stable/user_guide/indexing.html#returning-a-view-versus-a-copy\n",
            "  This is separate from the ipykernel package so we can avoid doing imports until\n"
          ],
          "name": "stderr"
        }
      ]
    }
  ]
}